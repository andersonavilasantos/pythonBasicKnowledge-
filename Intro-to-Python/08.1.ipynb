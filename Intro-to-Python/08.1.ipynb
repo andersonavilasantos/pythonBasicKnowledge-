{
 "cells": [
  {
   "cell_type": "markdown",
   "id": "2c886020",
   "metadata": {},
   "source": [
    "## Data Types and Formats\n",
    "\n",
    "The format of individual columns and rows will impact analysis performed on a dataset read into a pandas DataFrame. For example, you can’t perform mathematical calculations on a string (text formatted data). This might seem obvious, however sometimes numeric values are read into pandas as strings. In this situation, when you then try to perform calculations on the string-formatted numeric data, you get an error."
   ]
  },
  {
   "cell_type": "markdown",
   "id": "25996ff5",
   "metadata": {},
   "source": [
    "### Types of Data\n",
    "How information is stored in a DataFrame or a Python object affects what we can do with it and the outputs of calculations as well. There are two main types of data that we will explore in this lesson: numeric and text data types.\n",
    "\n",
    "#### Numeric Data Types\n",
    "Numeric data types include integers and floats. A floating point (known as a float) number has decimal points even if that decimal point value is 0. For example: 1.13, 2.0, 1234.345. If we have a column that contains both integers and floating point numbers, pandas will assign the entire column to the float data type so the decimal points are not lost.\n",
    "\n",
    "An integer will never have a decimal point. Thus if we wanted to store 1.13 as an integer it would be stored as 1. Similarly, 1234.345 would be stored as 1234. You will often see the data type Int64 in pandas which stands for 64 bit integer. The 64 refers to the memory allocated to store data in each cell which effectively relates to how many digits it can store in each “cell”. Allocating space ahead of time allows computers to optimize storage and processing efficiency.\n",
    "\n",
    "### Text Data Type\n",
    "The text data type is known as a string in Python, or object in pandas. Strings can contain numbers and / or characters. For example, a string might be a word, a sentence, or several sentences. A pandas object might also be a plot name like 'plot1'. A string can also contain or consist of numbers. For instance, '1234' could be stored as a string, as could '10.23'. However strings that contain numbers can not be used for mathematical operations!\n",
    "\n",
    "pandas and base Python use slightly different names for data types. More on this is in the table below:\n",
    "\n",
    "\n",
    "| Pandas Type               | Native Python Type | Description                                                                                       |\n",
    "|---------------------------|--------------------|---------------------------------------------------------------------------------------------------|\n",
    "| `object`                  | `string`           | The most general dtype. Assigned to columns with mixed types (numbers and strings).               |\n",
    "| `int64`                   | `int`              | Numeric characters. 64 refers to the memory allocated to store each value.                        |\n",
    "| `float64`                 | `float`            | Numeric characters with decimals. Used when a column has numbers and NaNs.                        |\n",
    "| `datetime64`, `timedelta[ns]` | N/A (use `datetime` module) | Time-related values. Useful for time series analysis.                                   |\n"
   ]
  },
  {
   "cell_type": "markdown",
   "id": "04a05400",
   "metadata": {},
   "source": [
    "## Checking the format of our data\n",
    "Now that we’re armed with a basic understanding of numeric and text data types, let’s explore the format of our survey data. We’ll be working with the same surveys.csv dataset that we’ve used in previous lessons."
   ]
  },
  {
   "cell_type": "code",
   "execution_count": 2,
   "id": "c0a970c9",
   "metadata": {},
   "outputs": [],
   "source": [
    "# Make sure pandas is loaded\n",
    "import pandas as pd\n",
    "\n",
    "# Note that pd.read_csv is used because we imported pandas as pd\n",
    "surveys_df = pd.read_csv(\"../Files/surveys.csv\")"
   ]
  },
  {
   "cell_type": "code",
   "execution_count": 3,
   "id": "5ac860cc",
   "metadata": {},
   "outputs": [
    {
     "data": {
      "text/plain": [
       "pandas.core.frame.DataFrame"
      ]
     },
     "execution_count": 3,
     "metadata": {},
     "output_type": "execute_result"
    }
   ],
   "source": [
    "type(surveys_df)"
   ]
  },
  {
   "cell_type": "code",
   "execution_count": 4,
   "id": "36f0548a",
   "metadata": {},
   "outputs": [
    {
     "data": {
      "text/plain": [
       "dtype('O')"
      ]
     },
     "execution_count": 4,
     "metadata": {},
     "output_type": "execute_result"
    }
   ],
   "source": [
    "surveys_df['sex'].dtype"
   ]
  },
  {
   "cell_type": "markdown",
   "id": "2fb6893d",
   "metadata": {},
   "source": [
    "A type ‘O’ just stands for “object” which in pandas is a string (text)."
   ]
  },
  {
   "cell_type": "code",
   "execution_count": 5,
   "id": "14baf796",
   "metadata": {},
   "outputs": [
    {
     "data": {
      "text/plain": [
       "dtype('int64')"
      ]
     },
     "execution_count": 5,
     "metadata": {},
     "output_type": "execute_result"
    }
   ],
   "source": [
    "surveys_df['record_id'].dtype"
   ]
  },
  {
   "cell_type": "code",
   "execution_count": 6,
   "id": "762417ee",
   "metadata": {},
   "outputs": [
    {
     "data": {
      "text/plain": [
       "record_id            int64\n",
       "month                int64\n",
       "day                  int64\n",
       "year                 int64\n",
       "plot_id              int64\n",
       "species_id          object\n",
       "sex                 object\n",
       "hindfoot_length    float64\n",
       "weight             float64\n",
       "dtype: object"
      ]
     },
     "execution_count": 6,
     "metadata": {},
     "output_type": "execute_result"
    }
   ],
   "source": [
    "surveys_df.dtypes"
   ]
  },
  {
   "cell_type": "markdown",
   "id": "582f61c2",
   "metadata": {},
   "source": [
    "Note that most of the columns in our survey_df data are of type int64. This means that they are 64 bit integers. But the weight column is a floating point value which means it contains decimals. The species_id and sex columns are objects which means they contain strings."
   ]
  },
  {
   "cell_type": "markdown",
   "id": "3ea47cc1",
   "metadata": {},
   "source": [
    "### Working With Integers and Floats\n",
    "\n",
    "\n",
    "So we’ve learned that computers store numbers in one of two ways: as integers or as floating-point numbers (or floats). Integers are the numbers we usually count with. Floats have fractional parts (decimal places). Let’s next consider how the data type can impact mathematical operations on our data. Addition, subtraction, division and multiplication work on floats and integers as we’d expect."
   ]
  },
  {
   "cell_type": "code",
   "execution_count": 7,
   "id": "5a2efa11",
   "metadata": {},
   "outputs": [
    {
     "data": {
      "text/plain": [
       "7"
      ]
     },
     "execution_count": 7,
     "metadata": {},
     "output_type": "execute_result"
    }
   ],
   "source": [
    "# Convert a to an integer\n",
    "a = 7.83\n",
    "int(a)"
   ]
  },
  {
   "cell_type": "code",
   "execution_count": 8,
   "id": "416cf541",
   "metadata": {},
   "outputs": [
    {
     "data": {
      "text/plain": [
       "7.0"
      ]
     },
     "execution_count": 8,
     "metadata": {},
     "output_type": "execute_result"
    }
   ],
   "source": [
    "# Convert b to a float\n",
    "b = 7\n",
    "float(b)"
   ]
  },
  {
   "cell_type": "markdown",
   "id": "8411e529",
   "metadata": {},
   "source": [
    "## Working With Our Survey Data"
   ]
  },
  {
   "cell_type": "markdown",
   "id": "6c230a11",
   "metadata": {},
   "source": [
    "Getting back to our data, we can modify the format of values within our data, if we want. For instance, we could convert the record_id field to floating point values."
   ]
  },
  {
   "cell_type": "code",
   "execution_count": 9,
   "id": "d0abc4c3",
   "metadata": {},
   "outputs": [
    {
     "data": {
      "text/plain": [
       "dtype('float64')"
      ]
     },
     "execution_count": 9,
     "metadata": {},
     "output_type": "execute_result"
    }
   ],
   "source": [
    "# Convert the record_id field from an integer to a float\n",
    "surveys_df['record_id'] = surveys_df['record_id'].astype('float64')\n",
    "surveys_df['record_id'].dtype"
   ]
  },
  {
   "cell_type": "markdown",
   "id": "8ac12b08",
   "metadata": {},
   "source": [
    "### Missing Data Values - NaN\n",
    "\n",
    "What happened in the last challenge activity? Notice that this raises a casting error: pandas.errors.IntCastingNaNError: Cannot convert non-finite values (NA or inf) to integer (in older versions of pandas, this may be called a ValueError instead). If we look at the weight column in the surveys data we notice that there are NaN (Not a Number) values. NaN values are undefined values that cannot be represented mathematically. pandas, for example, will read an empty cell in a CSV or Excel sheet as NaN. NaNs have some desirable properties: if we were to average the weight column without replacing our NaNs, Python would know to skip over those cells."
   ]
  },
  {
   "cell_type": "code",
   "execution_count": 10,
   "id": "957cbb9e",
   "metadata": {},
   "outputs": [
    {
     "data": {
      "text/plain": [
       "np.float64(42.672428212991356)"
      ]
     },
     "execution_count": 10,
     "metadata": {},
     "output_type": "execute_result"
    }
   ],
   "source": [
    "surveys_df['weight'].mean()"
   ]
  },
  {
   "cell_type": "markdown",
   "id": "64b9b1d8",
   "metadata": {},
   "source": [
    "Dealing with missing data values is always a challenge. It’s sometimes hard to know why values are missing - was it because of a data entry error? Or data that someone was unable to collect? Should the value be 0? We need to know how missing values are represented in the dataset in order to make good decisions. If we’re lucky, we have some metadata that will tell us more about how null values were handled.\n",
    "\n",
    "For instance, in some disciplines, like Remote Sensing, missing data values are often defined as -9999. Having a bunch of -9999 values in your data could really alter numeric calculations. Often in spreadsheets, cells are left empty where no data are available. pandas will, by default, replace those missing values with NaN. However, it is good practice to get in the habit of intentionally marking cells that have no data with a no data value! That way there are no questions in the future when you (or someone else) explores your data."
   ]
  },
  {
   "cell_type": "markdown",
   "id": "207d1490",
   "metadata": {},
   "source": [
    "### Where Are the NaN’s?\n",
    "Let’s explore the NaN values in our data a bit further. Using the tools we learned in lesson 02, we can figure out how many rows contain NaN values for weight. We can also create a new subset from our data that only contains rows with weight > 0 (i.e., select meaningful weight values):"
   ]
  },
  {
   "cell_type": "code",
   "execution_count": 12,
   "id": "914313f6",
   "metadata": {},
   "outputs": [
    {
     "data": {
      "text/plain": [
       "3266"
      ]
     },
     "execution_count": 12,
     "metadata": {},
     "output_type": "execute_result"
    }
   ],
   "source": [
    "len(surveys_df[surveys_df['weight'].isna()])"
   ]
  },
  {
   "cell_type": "code",
   "execution_count": null,
   "id": "6862d53f",
   "metadata": {},
   "outputs": [
    {
     "data": {
      "text/plain": [
       "32283"
      ]
     },
     "execution_count": 11,
     "metadata": {},
     "output_type": "execute_result"
    }
   ],
   "source": [
    "\n",
    "# How many rows have weight values?\n",
    "len(surveys_df[surveys_df['weight'] > 0])"
   ]
  },
  {
   "cell_type": "markdown",
   "id": "a98928fa",
   "metadata": {},
   "source": [
    "We can replace all NaN values with zeroes using the .fillna() method (after making a copy of the data so we don’t lose our work):"
   ]
  },
  {
   "cell_type": "code",
   "execution_count": 13,
   "id": "41403dbd",
   "metadata": {},
   "outputs": [],
   "source": [
    "df1 = surveys_df.copy()\n",
    "# Fill all NaN values with 0\n",
    "df1['weight'] = df1['weight'].fillna(0)"
   ]
  },
  {
   "cell_type": "markdown",
   "id": "278561f2",
   "metadata": {},
   "source": [
    "However NaN and 0 yield different analysis results. The mean value when NaN values are replaced with 0 is different from when NaN values are simply thrown out or ignored."
   ]
  },
  {
   "cell_type": "code",
   "execution_count": 14,
   "id": "391cc335",
   "metadata": {},
   "outputs": [
    {
     "data": {
      "text/plain": [
       "np.float64(38.751976145601844)"
      ]
     },
     "execution_count": 14,
     "metadata": {},
     "output_type": "execute_result"
    }
   ],
   "source": [
    "df1['weight'].mean()"
   ]
  },
  {
   "cell_type": "markdown",
   "id": "71516428",
   "metadata": {},
   "source": [
    "We can fill NaN values with any value that we chose. The code below fills all NaN values with a mean for all weight values."
   ]
  },
  {
   "cell_type": "code",
   "execution_count": 16,
   "id": "b55c056a",
   "metadata": {},
   "outputs": [
    {
     "data": {
      "text/plain": [
       "np.float64(42.672428212991356)"
      ]
     },
     "execution_count": 16,
     "metadata": {},
     "output_type": "execute_result"
    }
   ],
   "source": [
    "df1['weight'] = surveys_df['weight'].fillna(surveys_df['weight'].mean())\n",
    "df1['weight'].mean()"
   ]
  },
  {
   "cell_type": "markdown",
   "id": "5ceea0b0",
   "metadata": {},
   "source": [
    "### Writing Out Data to CSV"
   ]
  },
  {
   "cell_type": "markdown",
   "id": "aa337ef8",
   "metadata": {},
   "source": [
    "We’ve learned about manipulating data to get desired outputs. But we’ve also discussed keeping data that has been manipulated separate from our raw data. Something we might be interested in doing is working with only the columns that have full data. First, let’s reload the data so we’re not mixing up all of our previous manipulations."
   ]
  },
  {
   "cell_type": "code",
   "execution_count": 18,
   "id": "3ecf67f2",
   "metadata": {},
   "outputs": [],
   "source": [
    "surveys_df = pd.read_csv(\"../Files/surveys.csv\")"
   ]
  },
  {
   "cell_type": "markdown",
   "id": "03b729b8",
   "metadata": {},
   "source": [
    "Next, let’s drop all the rows that contain missing values. We will use the command dropna. By default, dropna removes rows that contain missing data for even just one column."
   ]
  },
  {
   "cell_type": "code",
   "execution_count": 19,
   "id": "f594bb0f",
   "metadata": {},
   "outputs": [],
   "source": [
    "df_na = surveys_df.dropna()"
   ]
  },
  {
   "cell_type": "markdown",
   "id": "4882764d",
   "metadata": {},
   "source": [
    "If you now type df_na, you should observe that the resulting DataFrame has 30676 rows and 9 columns, much smaller than the 35549 row original.\n",
    "\n",
    "We can now use the to_csv command to export a DataFrame in CSV format. Note that the code below will by default save the data into the current working directory. We can save it to a different folder by adding the foldername and a slash before the filename: df.to_csv('foldername/out.csv'). We use 'index=False' so that pandas doesn’t include the index number for each line."
   ]
  },
  {
   "cell_type": "code",
   "execution_count": null,
   "id": "40d8cb92",
   "metadata": {},
   "outputs": [],
   "source": [
    "# Write DataFrame to CSV\n",
    "df_na.to_csv('../Files/surveys_complete.csv', index=False)"
   ]
  }
 ],
 "metadata": {
  "kernelspec": {
   "display_name": "summerschool",
   "language": "python",
   "name": "python3"
  },
  "language_info": {
   "codemirror_mode": {
    "name": "ipython",
    "version": 3
   },
   "file_extension": ".py",
   "mimetype": "text/x-python",
   "name": "python",
   "nbconvert_exporter": "python",
   "pygments_lexer": "ipython3",
   "version": "3.11.13"
  }
 },
 "nbformat": 4,
 "nbformat_minor": 5
}
