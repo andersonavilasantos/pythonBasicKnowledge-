{
 "cells": [
  {
   "cell_type": "markdown",
   "id": "a6958415",
   "metadata": {},
   "source": [
    "## Data Workflows and Automation\n",
    "\n",
    "So far, we’ve used Python and the pandas library to explore and manipulate individual datasets by hand, much like we would do in a spreadsheet. The beauty of using a programming language like Python, though, comes from the ability to automate data processing through the use of loops and functions.\n",
    "\n",
    "### For loops\n",
    "\n",
    "Loops allow us to repeat a workflow (or series of actions) a given number of times or while some condition is true. We would use a loop to automatically process data that’s stored in multiple files (daily values with one file per year, for example). Loops lighten our work load by performing repeated tasks without our direct involvement and make it less likely that we’ll introduce errors by making mistakes while processing each file by hand.\n",
    "\n",
    "Let’s write a simple for loop that simulates what a kid might see during a visit to the zoo:"
   ]
  },
  {
   "cell_type": "code",
   "execution_count": 20,
   "id": "fd1f2893",
   "metadata": {},
   "outputs": [
    {
     "name": "stdout",
     "output_type": "stream",
     "text": [
      "['lion', 'tiger', 'crocodile', 'vulture', 'hippo']\n"
     ]
    }
   ],
   "source": [
    "animals = ['lion', 'tiger', 'crocodile', 'vulture', 'hippo']\n",
    "print(animals)"
   ]
  },
  {
   "cell_type": "code",
   "execution_count": 21,
   "id": "14e15dff",
   "metadata": {},
   "outputs": [
    {
     "name": "stdout",
     "output_type": "stream",
     "text": [
      "lion\n",
      "tiger\n",
      "crocodile\n",
      "vulture\n",
      "hippo\n"
     ]
    }
   ],
   "source": [
    "for creature in animals:\n",
    "    print(creature)"
   ]
  },
  {
   "cell_type": "markdown",
   "id": "657ffdf6",
   "metadata": {},
   "source": [
    "The line defining the loop must start with for and end with a colon, and the body of the loop must be indented.\n",
    "\n",
    "In this example, creature is the loop variable that takes the value of the next entry in animals every time the loop goes around. We can call the loop variable anything we like. After the loop finishes, the loop variable will still exist and will have the value of the last entry in the collection:"
   ]
  },
  {
   "cell_type": "code",
   "execution_count": 22,
   "id": "5b64c2be",
   "metadata": {},
   "outputs": [],
   "source": [
    "animals = ['lion', 'tiger', 'crocodile', 'vulture', 'hippo']\n",
    "for creature in animals:\n",
    "    pass"
   ]
  },
  {
   "cell_type": "code",
   "execution_count": 23,
   "id": "ede21246",
   "metadata": {},
   "outputs": [
    {
     "name": "stdout",
     "output_type": "stream",
     "text": [
      "The loop variable is now: hippo\n"
     ]
    }
   ],
   "source": [
    "print('The loop variable is now: ' + creature)"
   ]
  },
  {
   "cell_type": "markdown",
   "id": "56af007d",
   "metadata": {},
   "source": [
    "### Automating data processing using For Loops\n",
    "\n",
    "The file we’ve been using so far, surveys.csv, contains 25 years of data and is very large. We would like to separate the data for each year into a separate file.\n",
    "\n",
    "Let’s start by making a new directory inside the folder data to store all of these files using the module os:"
   ]
  },
  {
   "cell_type": "markdown",
   "id": "34f8a7fd",
   "metadata": {},
   "source": [
    "The file we’ve been using so far, surveys.csv, contains 25 years of data and is very large. We would like to separate the data for each year into a separate file.\n",
    "\n",
    "Let’s start by making a new directory inside the folder data to store all of these files using the module os:"
   ]
  },
  {
   "cell_type": "code",
   "execution_count": 24,
   "id": "e4369f1f",
   "metadata": {},
   "outputs": [],
   "source": [
    "import os\n",
    "\n",
    "os.mkdir('../Files/yearly_files')"
   ]
  },
  {
   "cell_type": "code",
   "execution_count": 25,
   "id": "6262eaf1",
   "metadata": {},
   "outputs": [
    {
     "data": {
      "text/plain": [
       "['humchrx.txt',\n",
       " 'test.txt',\n",
       " 'surveys.csv',\n",
       " 'command_out.txt',\n",
       " 'surveys_complete.csv',\n",
       " 'yearly_files']"
      ]
     },
     "execution_count": 25,
     "metadata": {},
     "output_type": "execute_result"
    }
   ],
   "source": [
    "os.listdir('../Files')"
   ]
  },
  {
   "cell_type": "markdown",
   "id": "9bdd9e99",
   "metadata": {},
   "source": [
    "The command os.listdir is equivalent to ls in the shell.\n",
    "\n",
    "In previous lessons, we saw how to use the library pandas to load the species data into memory as a DataFrame, how to select a subset of the data using some criteria, and how to write the DataFrame into a CSV file. Let’s write a script that performs those three steps in sequence for the year 2002:"
   ]
  },
  {
   "cell_type": "code",
   "execution_count": 26,
   "id": "a052c2de",
   "metadata": {},
   "outputs": [],
   "source": [
    "import pandas as pd\n",
    "\n",
    "# Load the data into a DataFrame\n",
    "surveys_df = pd.read_csv('../Files/surveys.csv')\n",
    "\n",
    "# Select only data for the year 2002\n",
    "surveys2002 = surveys_df[surveys_df.year == 2002]\n",
    "\n",
    "# Write the new DataFrame to a CSV file\n",
    "surveys2002.to_csv('../Files/yearly_files/surveys2002.csv')"
   ]
  },
  {
   "cell_type": "markdown",
   "id": "b9fa4043",
   "metadata": {},
   "source": [
    "To create yearly data files, we could repeat the last two commands over and over, once for each year of data. Repeating code is neither elegant nor practical, and is very likely to introduce errors into your code. We want to turn what we’ve just written into a loop that repeats the last two commands for every year in the dataset.\n",
    "\n",
    "Let’s start by writing a loop that prints the names of the files we want to create - the dataset we are using covers 1977 through 2002, and we’ll create a separate file for each of those years. Listing the filenames is a good way to confirm that the loop is behaving as we expect.\n",
    "\n",
    "We have seen that we can loop over a list of items, so we need a list of years to loop over. We can get the years in our DataFrame with:"
   ]
  },
  {
   "cell_type": "code",
   "execution_count": 27,
   "id": "b7f86f4a",
   "metadata": {},
   "outputs": [
    {
     "data": {
      "text/plain": [
       "0        1977\n",
       "1        1977\n",
       "2        1977\n",
       "3        1977\n",
       "4        1977\n",
       "         ... \n",
       "35544    2002\n",
       "35545    2002\n",
       "35546    2002\n",
       "35547    2002\n",
       "35548    2002\n",
       "Name: year, Length: 35549, dtype: int64"
      ]
     },
     "execution_count": 27,
     "metadata": {},
     "output_type": "execute_result"
    }
   ],
   "source": [
    "surveys_df['year']"
   ]
  },
  {
   "cell_type": "markdown",
   "id": "f1501072",
   "metadata": {},
   "source": [
    "but we want only unique years, which we can get using the unique method which we have already seen."
   ]
  },
  {
   "cell_type": "code",
   "execution_count": 28,
   "id": "38cb8a2b",
   "metadata": {},
   "outputs": [
    {
     "data": {
      "text/plain": [
       "array([1977, 1978, 1979, 1980, 1981, 1982, 1983, 1984, 1985, 1986, 1987,\n",
       "       1988, 1989, 1990, 1991, 1992, 1993, 1994, 1995, 1996, 1997, 1998,\n",
       "       1999, 2000, 2001, 2002])"
      ]
     },
     "execution_count": 28,
     "metadata": {},
     "output_type": "execute_result"
    }
   ],
   "source": [
    "surveys_df['year'].unique()"
   ]
  },
  {
   "cell_type": "markdown",
   "id": "8d0b35f3",
   "metadata": {},
   "source": [
    "Putting this into our for loop we get"
   ]
  },
  {
   "cell_type": "code",
   "execution_count": 29,
   "id": "da44eeaa",
   "metadata": {},
   "outputs": [
    {
     "name": "stdout",
     "output_type": "stream",
     "text": [
      "../Files/yearly_files/surveys1977.csv\n",
      "../Files/yearly_files/surveys1978.csv\n",
      "../Files/yearly_files/surveys1979.csv\n",
      "../Files/yearly_files/surveys1980.csv\n",
      "../Files/yearly_files/surveys1981.csv\n",
      "../Files/yearly_files/surveys1982.csv\n",
      "../Files/yearly_files/surveys1983.csv\n",
      "../Files/yearly_files/surveys1984.csv\n",
      "../Files/yearly_files/surveys1985.csv\n",
      "../Files/yearly_files/surveys1986.csv\n",
      "../Files/yearly_files/surveys1987.csv\n",
      "../Files/yearly_files/surveys1988.csv\n",
      "../Files/yearly_files/surveys1989.csv\n",
      "../Files/yearly_files/surveys1990.csv\n",
      "../Files/yearly_files/surveys1991.csv\n",
      "../Files/yearly_files/surveys1992.csv\n",
      "../Files/yearly_files/surveys1993.csv\n",
      "../Files/yearly_files/surveys1994.csv\n",
      "../Files/yearly_files/surveys1995.csv\n",
      "../Files/yearly_files/surveys1996.csv\n",
      "../Files/yearly_files/surveys1997.csv\n",
      "../Files/yearly_files/surveys1998.csv\n",
      "../Files/yearly_files/surveys1999.csv\n",
      "../Files/yearly_files/surveys2000.csv\n",
      "../Files/yearly_files/surveys2001.csv\n",
      "../Files/yearly_files/surveys2002.csv\n"
     ]
    }
   ],
   "source": [
    "for year in surveys_df['year'].unique():\n",
    "   filename='../Files/yearly_files/surveys' + str(year) + '.csv'\n",
    "   print(filename)"
   ]
  },
  {
   "cell_type": "markdown",
   "id": "e4460503",
   "metadata": {},
   "source": [
    "We can now add the rest of the steps we need to create separate text files:"
   ]
  },
  {
   "cell_type": "code",
   "execution_count": 30,
   "id": "ae265d56",
   "metadata": {},
   "outputs": [],
   "source": [
    "# Load the data into a DataFrame\n",
    "surveys_df = pd.read_csv('../Files/surveys.csv')\n",
    "\n",
    "for year in surveys_df['year'].unique():\n",
    "\n",
    "    # Select data for the year\n",
    "    surveys_year = surveys_df[surveys_df.year == year]\n",
    "\n",
    "    # Write the new DataFrame to a CSV file\n",
    "    filename = '../Files/yearly_files/surveys' + str(year) + '.csv'\n",
    "    surveys_year.to_csv(filename)"
   ]
  },
  {
   "cell_type": "markdown",
   "id": "ddfda2bc",
   "metadata": {},
   "source": [
    "Look inside the yearly_files directory and check a couple of the files you just created to confirm that everything worked as expected."
   ]
  },
  {
   "cell_type": "markdown",
   "id": "64257732",
   "metadata": {},
   "source": [
    "## Building reusable and modular code with functions\n",
    "\n",
    "Suppose that separating large data files into individual yearly files is a task that we frequently have to perform. We could write a for loop like the one above every time we needed to do it but that would be time consuming and error prone. A more elegant solution would be to create a reusable tool that performs this task with minimum input from the user. To do this, we are going to turn the code we’ve already written into a function.\n",
    "\n",
    "Functions are reusable, self-contained pieces of code that are called with a single command. They can be designed to accept arguments as input and return values, but they don’t need to do either. Variables declared inside functions only exist while the function is running and if a variable within the function (a local variable) has the same name as a variable somewhere else in the code, the local variable hides but doesn’t overwrite the other.\n",
    "\n",
    "Every method used in Python (for example, print) is a function, and the libraries we import (say, pandas) are a collection of functions. We will only use functions that are housed within the same code that uses them, but we can also write functions that can be used by different programs.\n",
    "\n",
    "Functions are declared following this general structure:"
   ]
  },
  {
   "cell_type": "code",
   "execution_count": 31,
   "id": "c47b4bee",
   "metadata": {},
   "outputs": [],
   "source": [
    "def this_is_the_function_name(input_argument1, input_argument2):\n",
    "    # The body of the function is indented\n",
    "    # This function prints the two arguments to screen\n",
    "    print('The function arguments are:', input_argument1, input_argument2, '(this is done inside the function!)')\n",
    "    \n",
    "    # And returns their product\n",
    "    return input_argument1 * input_argument2"
   ]
  },
  {
   "cell_type": "markdown",
   "id": "25f45b05",
   "metadata": {},
   "source": [
    "The function declaration starts with the word def, followed by the function name and any arguments in parenthesis, and ends in a colon. The body of the function is indented just like loops are. If the function returns something when it is called, it includes a return statement at the end.\n",
    "\n",
    "This is how we call the function:"
   ]
  },
  {
   "cell_type": "code",
   "execution_count": 32,
   "id": "34e8f574",
   "metadata": {},
   "outputs": [
    {
     "name": "stdout",
     "output_type": "stream",
     "text": [
      "The function arguments are: 2 5 (this is done inside the function!)\n"
     ]
    }
   ],
   "source": [
    "product_of_inputs = this_is_the_function_name(2, 5)"
   ]
  },
  {
   "cell_type": "markdown",
   "id": "edd5d052",
   "metadata": {},
   "source": [
    "We can now turn our code for saving yearly data files into a function. There are many different “chunks” of this code that we can turn into functions, and we can even create functions that call other functions inside them. Let’s first write a function that separates data for just one year and saves that data to a file:"
   ]
  },
  {
   "cell_type": "code",
   "execution_count": 33,
   "id": "2ad007d6",
   "metadata": {},
   "outputs": [],
   "source": [
    "def one_year_csv_writer(this_year, all_data):\n",
    "    \"\"\"\n",
    "    Writes a csv file for data from a given year.\n",
    "\n",
    "    this_year -- year for which data is extracted\n",
    "    all_data -- DataFrame with multi-year data\n",
    "    \"\"\"\n",
    "\n",
    "    # Select data for the year\n",
    "    surveys_year = all_data[all_data.year == this_year]\n",
    "\n",
    "    # Write the new DataFrame to a csv file\n",
    "    filename = '../Files/yearly_files/function_surveys' + str(this_year) + '.csv'\n",
    "    surveys_year.to_csv(filename)"
   ]
  },
  {
   "cell_type": "markdown",
   "id": "534ce5a1",
   "metadata": {},
   "source": [
    "The text between the two sets of triple double quotes is called a docstring and contains the documentation for the function. It does nothing when the function is running and is therefore not necessary, but it is good practice to include docstrings as a reminder of what the code does. Docstrings in functions also become part of their ‘official’ documentation, and we can see them by typing help(function_name):"
   ]
  },
  {
   "cell_type": "code",
   "execution_count": 34,
   "id": "176f837f",
   "metadata": {},
   "outputs": [
    {
     "name": "stdout",
     "output_type": "stream",
     "text": [
      "Help on function one_year_csv_writer in module __main__:\n",
      "\n",
      "one_year_csv_writer(this_year, all_data)\n",
      "    Writes a csv file for data from a given year.\n",
      "    \n",
      "    this_year -- year for which data is extracted\n",
      "    all_data -- DataFrame with multi-year data\n",
      "\n"
     ]
    }
   ],
   "source": [
    "help(one_year_csv_writer)"
   ]
  },
  {
   "cell_type": "markdown",
   "id": "b1f99b9d",
   "metadata": {},
   "source": [
    "## If Statements\n",
    "\n",
    "The body of the test function now has two conditionals (if statements) that check the values of start_year and end_year. If statements execute a segment of code when some condition is met. They commonly look something like this:"
   ]
  },
  {
   "cell_type": "code",
   "execution_count": 35,
   "id": "030eaf67",
   "metadata": {},
   "outputs": [
    {
     "name": "stdout",
     "output_type": "stream",
     "text": [
      "a is a positive number\n"
     ]
    }
   ],
   "source": [
    "a = 5\n",
    "\n",
    "if a<0:  # Meets first condition?\n",
    "\n",
    "    # if a IS less than zero\n",
    "    print('a is a negative number')\n",
    "\n",
    "elif a>0:  # Did not meet first condition. meets second condition?\n",
    "\n",
    "    # if a ISN'T less than zero and IS more than zero\n",
    "    print('a is a positive number')\n",
    "\n",
    "else:  # Met neither condition\n",
    "\n",
    "    # if a ISN'T less than zero and ISN'T more than zero\n",
    "    print('a must be zero!')"
   ]
  }
 ],
 "metadata": {
  "kernelspec": {
   "display_name": "summerschool",
   "language": "python",
   "name": "python3"
  },
  "language_info": {
   "codemirror_mode": {
    "name": "ipython",
    "version": 3
   },
   "file_extension": ".py",
   "mimetype": "text/x-python",
   "name": "python",
   "nbconvert_exporter": "python",
   "pygments_lexer": "ipython3",
   "version": "3.11.13"
  }
 },
 "nbformat": 4,
 "nbformat_minor": 5
}
