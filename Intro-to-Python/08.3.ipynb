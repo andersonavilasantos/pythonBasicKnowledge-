{
 "cells": [
  {
   "cell_type": "markdown",
   "id": "62991c08",
   "metadata": {},
   "source": [
    "## Making Plots With plotnine\n"
   ]
  }
 ],
 "metadata": {
  "language_info": {
   "name": "python"
  }
 },
 "nbformat": 4,
 "nbformat_minor": 5
}
