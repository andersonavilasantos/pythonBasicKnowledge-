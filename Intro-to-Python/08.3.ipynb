{
 "cells": [
  {
   "cell_type": "markdown",
   "id": "62991c08",
   "metadata": {},
   "source": [
    "## Making Plots With plotnine\n",
    "\n",
    "Python has powerful built-in plotting capabilities such as matplotlib, but for this episode, we will be using the plotnine package, which facilitates the creation of highly-informative plots of structured data based on the R implementation of ggplot2 and The Grammar of Graphics by Leland Wilkinson. The plotnine package is built on top of Matplotlib and interacts well with Pandas.\n"
   ]
  },
  {
   "cell_type": "markdown",
   "id": "c47854e0",
   "metadata": {},
   "source": [
    "Just as with the other packages, plotnine needs to be imported. It is good practice to not just load an entire package such as from plotnine import *, but to use an abbreviation as we used pd for Pandas:"
   ]
  },
  {
   "cell_type": "markdown",
   "id": "d2d1458e",
   "metadata": {},
   "source": [
    "plotnine is not included in the standard Anaconda installation and needs to be installed separately."
   ]
  },
  {
   "cell_type": "code",
   "execution_count": 3,
   "id": "ea86e770",
   "metadata": {},
   "outputs": [],
   "source": [
    "#conda install -y -c conda-forge plotnine"
   ]
  },
  {
   "cell_type": "markdown",
   "id": "39d75d12",
   "metadata": {},
   "source": [
    "This will then install the latest version of plotnine into your conda environment."
   ]
  },
  {
   "cell_type": "code",
   "execution_count": 4,
   "id": "3ee46a44",
   "metadata": {},
   "outputs": [
    {
     "ename": "ModuleNotFoundError",
     "evalue": "No module named 'plotnine'",
     "output_type": "error",
     "traceback": [
      "\u001b[31m---------------------------------------------------------------------------\u001b[39m",
      "\u001b[31mModuleNotFoundError\u001b[39m                       Traceback (most recent call last)",
      "\u001b[36mCell\u001b[39m\u001b[36m \u001b[39m\u001b[32mIn[4]\u001b[39m\u001b[32m, line 2\u001b[39m\n\u001b[32m      1\u001b[39m get_ipython().run_line_magic(\u001b[33m'\u001b[39m\u001b[33mmatplotlib\u001b[39m\u001b[33m'\u001b[39m, \u001b[33m'\u001b[39m\u001b[33minline\u001b[39m\u001b[33m'\u001b[39m)\n\u001b[32m----> \u001b[39m\u001b[32m2\u001b[39m \u001b[38;5;28;01mimport\u001b[39;00m\u001b[38;5;250m \u001b[39m\u001b[34;01mplotnine\u001b[39;00m\u001b[38;5;250m \u001b[39m\u001b[38;5;28;01mas\u001b[39;00m\u001b[38;5;250m \u001b[39m\u001b[34;01mp9\u001b[39;00m\n",
      "\u001b[31mModuleNotFoundError\u001b[39m: No module named 'plotnine'"
     ]
    }
   ],
   "source": [
    "%matplotlib inline\n",
    "import plotnine as p9"
   ]
  },
  {
   "cell_type": "markdown",
   "id": "d356a24a",
   "metadata": {},
   "source": [
    "From now on, the functions of plotnine are available using p9.. For the exercise, we will use the surveys.csv data set, with the NA values removed"
   ]
  },
  {
   "cell_type": "code",
   "execution_count": null,
   "id": "d030cda3",
   "metadata": {},
   "outputs": [],
   "source": [
    "import pandas as pd\n",
    "\n",
    "surveys_complete = pd.read_csv('../Files/surveys.csv')\n",
    "surveys_complete = surveys_complete.dropna()"
   ]
  },
  {
   "cell_type": "markdown",
   "id": "3931d666",
   "metadata": {},
   "source": [
    "### Plotting with plotnine\n",
    "\n",
    "\n",
    "The plotnine package (cfr. other packages conform The Grammar of Graphics) supports the creation of complex plots from data in a dataframe. It uses default settings, which help creating publication quality plots with a minimal amount of settings and tweaking.\n",
    "\n",
    "plotnine graphics are built step by step by adding new elements adding different elements on top of each other using the + operator. Putting the individual steps together in brackets () provides Python-compatible syntax.\n",
    "\n",
    "To build a plotnine graphic we need to:\n",
    "\n",
    "Bind the plot to a specific data frame using the data argument:"
   ]
  },
  {
   "cell_type": "code",
   "execution_count": null,
   "id": "ee0494e3",
   "metadata": {},
   "outputs": [],
   "source": [
    "(p9.ggplot(data=surveys_complete))"
   ]
  },
  {
   "cell_type": "markdown",
   "id": "0771ac70",
   "metadata": {},
   "source": [
    "As we have not defined anything else, just an empty figure is available and presented.\n",
    "\n",
    "Define aesthetics (aes), by selecting variables used in the plot and mapping them to a presentation such as plotting size, shape, color, etc. You can interpret this as: which of the variables will influence the plotted objects/geometries:"
   ]
  },
  {
   "cell_type": "code",
   "execution_count": null,
   "id": "ed28043c",
   "metadata": {},
   "outputs": [],
   "source": [
    "(p9.ggplot(data=surveys_complete,\n",
    "           mapping=p9.aes(x='weight', y='hindfoot_length')))"
   ]
  },
  {
   "cell_type": "markdown",
   "id": "465eee80",
   "metadata": {},
   "source": [
    "The most important aes mappings are: x, y, alpha, color, colour, fill, linetype, shape, size and stroke.\n",
    "\n",
    "Still no specific data is plotted, as we have to define what kind of geometry will be used for the plot. The most straightforward is probably using points. Points is one of the geoms options, the graphical representation of the data in the plot. Others are lines, bars,… To add a geom to the plot use + operator:"
   ]
  },
  {
   "cell_type": "code",
   "execution_count": null,
   "id": "ce1bb6b9",
   "metadata": {},
   "outputs": [],
   "source": [
    "(p9.ggplot(data=surveys_complete,\n",
    "           mapping=p9.aes(x='weight', y='hindfoot_length'))\n",
    "    + p9.geom_point()\n",
    ")"
   ]
  },
  {
   "cell_type": "markdown",
   "id": "84b3fa06",
   "metadata": {},
   "source": [
    "The + in the plotnine package is particularly useful because it allows you to modify existing plotnine objects. This means you can easily set up plot templates and conveniently explore different types of plots, so the above plot can also be generated with code like this:"
   ]
  },
  {
   "cell_type": "code",
   "execution_count": null,
   "id": "66e6e3b4",
   "metadata": {},
   "outputs": [],
   "source": [
    "# Create\n",
    "surveys_plot = p9.ggplot(data=surveys_complete,\n",
    "                         mapping=p9.aes(x='weight', y='hindfoot_length'))\n",
    "\n",
    "# Draw the plot\n",
    "surveys_plot + p9.geom_point()"
   ]
  },
  {
   "cell_type": "code",
   "execution_count": null,
   "id": "062348c9",
   "metadata": {},
   "outputs": [],
   "source": [
    "(p9.ggplot(data=surveys_complete,\n",
    "           mapping=p9.aes(x='weight', y='hindfoot_length', color='species_id'))\n",
    "    + p9.geom_point(alpha=0.1)\n",
    "    + p9.xlab(\"Weight (g)\")\n",
    "    + p9.scale_x_log10()\n",
    "    + p9.theme_bw()\n",
    "    + p9.theme(text=p9.element_text(size=16))\n",
    ")"
   ]
  },
  {
   "cell_type": "markdown",
   "id": "2220591b",
   "metadata": {},
   "source": [
    "## Plotting distributions\n",
    "\n",
    "Visualizing distributions is a common task during data exploration and analysis. To visualize the distribution of weight within each species_id group, a boxplot can be used:"
   ]
  },
  {
   "cell_type": "code",
   "execution_count": null,
   "id": "6165837b",
   "metadata": {},
   "outputs": [],
   "source": [
    "(p9.ggplot(data=surveys_complete,\n",
    "           mapping=p9.aes(x='species_id',\n",
    "                          y='weight'))\n",
    "    + p9.geom_boxplot()\n",
    ")"
   ]
  },
  {
   "cell_type": "markdown",
   "id": "e3cebf7d",
   "metadata": {},
   "source": [
    "## Plotting time series data\n",
    "\n",
    "Let’s calculate the number of counts per year for each species. To do that we need to group data first and count the species (species_id) within each group."
   ]
  },
  {
   "cell_type": "code",
   "execution_count": null,
   "id": "ba0116f7",
   "metadata": {},
   "outputs": [],
   "source": [
    "yearly_counts = surveys_complete.groupby(['year', 'species_id'])['species_id'].count()\n",
    "yearly_counts"
   ]
  },
  {
   "cell_type": "markdown",
   "id": "e0e4bef3",
   "metadata": {},
   "source": [
    "When checking the result of the previous calculation, we actually have both the year and the species_id as a row index. We can reset this index to use both as column variable:"
   ]
  },
  {
   "cell_type": "code",
   "execution_count": null,
   "id": "5466038d",
   "metadata": {},
   "outputs": [],
   "source": [
    "yearly_counts = yearly_counts.reset_index(name='counts')\n",
    "yearly_counts"
   ]
  },
  {
   "cell_type": "markdown",
   "id": "631a907a",
   "metadata": {},
   "source": [
    "Timelapse data can be visualised as a line plot (geom_line) with years on x axis and counts on the y axis."
   ]
  },
  {
   "cell_type": "code",
   "execution_count": null,
   "id": "51b2ef23",
   "metadata": {},
   "outputs": [],
   "source": [
    "(p9.ggplot(data=yearly_counts,\n",
    "           mapping=p9.aes(x='year',\n",
    "                          y='counts',\n",
    "                          color='species_id'))\n",
    "    + p9.geom_line()\n",
    ")"
   ]
  },
  {
   "cell_type": "markdown",
   "id": "188201e7",
   "metadata": {},
   "source": [
    "## Faceting\n",
    "\n",
    "As any other library supporting the Grammar of Graphics, plotnine has a special technique called faceting that allows to split one plot into multiple plots based on a factor variable included in the dataset.\n",
    "\n",
    "Consider our scatter plot of the weight versus the hindfoot_length from the previous sections:"
   ]
  },
  {
   "cell_type": "code",
   "execution_count": null,
   "id": "37238aed",
   "metadata": {},
   "outputs": [],
   "source": [
    "(p9.ggplot(data=surveys_complete,\n",
    "           mapping=p9.aes(x='weight',\n",
    "                          y='hindfoot_length',\n",
    "                          color='species_id'))\n",
    "    + p9.geom_point(alpha=0.1)\n",
    ")"
   ]
  },
  {
   "cell_type": "markdown",
   "id": "4866e097",
   "metadata": {},
   "source": [
    "We can now keep the same code and at the facet_wrap on a chosen variable to split out the graph and make a separate graph for each of the groups in that variable. As an example, use sex:"
   ]
  },
  {
   "cell_type": "code",
   "execution_count": null,
   "id": "4a701258",
   "metadata": {},
   "outputs": [],
   "source": [
    "(p9.ggplot(data=surveys_complete,\n",
    "           mapping=p9.aes(x='weight',\n",
    "                          y='hindfoot_length',\n",
    "                          color='species_id'))\n",
    "    + p9.geom_point(alpha=0.1)\n",
    "    + p9.facet_wrap(\"sex\")\n",
    ")"
   ]
  },
  {
   "cell_type": "markdown",
   "id": "e236f52f",
   "metadata": {},
   "source": [
    "We can apply the same concept on any of the available categorical variables:"
   ]
  },
  {
   "cell_type": "code",
   "execution_count": null,
   "id": "7aa03fcb",
   "metadata": {},
   "outputs": [],
   "source": [
    "(p9.ggplot(data=surveys_complete,\n",
    "           mapping=p9.aes(x='weight',\n",
    "                          y='hindfoot_length',\n",
    "                          color='species_id'))\n",
    "    + p9.geom_point(alpha=0.1)\n",
    "    + p9.facet_wrap(\"plot_id\")\n",
    ")"
   ]
  },
  {
   "cell_type": "code",
   "execution_count": null,
   "id": "572fbe9b",
   "metadata": {},
   "outputs": [],
   "source": [
    "(p9.ggplot(data=surveys_complete,\n",
    "           mapping=p9.aes(x='factor(year)'))\n",
    "    + p9.geom_bar()\n",
    "    + p9.theme_bw()\n",
    "    + p9.theme(axis_text_x = p9.element_text(angle=90))\n",
    ")"
   ]
  }
 ],
 "metadata": {
  "kernelspec": {
   "display_name": "summerschool",
   "language": "python",
   "name": "python3"
  },
  "language_info": {
   "codemirror_mode": {
    "name": "ipython",
    "version": 3
   },
   "file_extension": ".py",
   "mimetype": "text/x-python",
   "name": "python",
   "nbconvert_exporter": "python",
   "pygments_lexer": "ipython3",
   "version": "3.11.13"
  }
 },
 "nbformat": 4,
 "nbformat_minor": 5
}
