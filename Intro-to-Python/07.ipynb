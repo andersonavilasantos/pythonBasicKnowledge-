{
 "cells": [
  {
   "cell_type": "markdown",
   "metadata": {},
   "source": [
    "\n",
    "## Files, Scripting and Modules\n",
    "\n",
    "So far, we have been writing all our Python Code in Jupyter notebooks. However, if you want to use the code we have written as part of a pipeline, you need to write scripts. Also, most of the time the data you need to analyse is in a file, which you need to read to Python and process. \n",
    "\n",
    "\n",
    "### Reading Files\n",
    "\n",
    "So far we have been working from memory. In Bioinformatics, you will need to read some file or even write some output to file. We use the `open` function. "
   ]
  },
  {
   "cell_type": "code",
   "execution_count": 1,
   "metadata": {},
   "outputs": [],
   "source": [
    "myfile = open(\"../Files/test.txt\", \"w\")\n",
    "myfile.write(\"My first file written from Python \\n\")\n",
    "myfile.write(\"---------------------------------\\n\")\n",
    "myfile.write(\"Hello, world!\\n\")\n",
    "myfile.close()"
   ]
  },
  {
   "cell_type": "markdown",
   "metadata": {},
   "source": [
    "The **mode** in which you open the file determines whether to write (w), read (r) or append(a) to file. \n",
    "\n",
    "Opening a file creates what we call a **file handle** which contains methods for manipulating the file. In our case, `myfile` has the methods to write and close the file. Closing the file makes it accessible in the disk. \n",
    "\n",
    "Alternatively, one can open the file in a mode that automatically closes the file when done. "
   ]
  },
  {
   "cell_type": "code",
   "execution_count": 2,
   "metadata": {},
   "outputs": [],
   "source": [
    "with open(\"../Files/test.txt\", \"w\") as myfile:\n",
    "    myfile.write(\"My first file written from Python \\n\")\n",
    "    myfile.write(\"---------------------------------\\n\")\n",
    "    myfile.write(\"Hello, world!\\n\")"
   ]
  },
  {
   "cell_type": "markdown",
   "metadata": {},
   "source": [
    "#### Fetching file from the web\n",
    "Download this [file](https://www.uniprot.org/docs/humchrx.txt) we will use to explore file reading in python. "
   ]
  },
  {
   "cell_type": "code",
   "execution_count": 4,
   "metadata": {},
   "outputs": [
    {
     "data": {
      "text/plain": [
       "('../Files/humchrx.txt', <http.client.HTTPMessage at 0x16e81bce810>)"
      ]
     },
     "execution_count": 4,
     "metadata": {},
     "output_type": "execute_result"
    }
   ],
   "source": [
    "import urllib.request\n",
    "\n",
    "url = \"https://www.uniprot.org/docs/humchrx.txt\"\n",
    "destination_filename = \"../Files/humchrx.txt\"\n",
    "urllib.request.urlretrieve(url, destination_filename)"
   ]
  },
  {
   "cell_type": "markdown",
   "metadata": {},
   "source": [
    "#### Reading a file line-at-a-time\n",
    "\n",
    "We can read the file line by line using `readline`. Thie reads the line one by one until the end of the file. This is suitable for a large file which may not fit memory. "
   ]
  },
  {
   "cell_type": "code",
   "execution_count": 5,
   "metadata": {},
   "outputs": [
    {
     "name": "stdout",
     "output_type": "stream",
     "text": [
      "----------------------------------------------------------------------------\n",
      "\n"
     ]
    }
   ],
   "source": [
    "humchrx = open('../Files/humchrx.txt', 'r')\n",
    "line = humchrx.readline()\n",
    "print(line)"
   ]
  },
  {
   "cell_type": "code",
   "execution_count": 6,
   "metadata": {},
   "outputs": [],
   "source": [
    "humchrx.close()"
   ]
  },
  {
   "cell_type": "code",
   "execution_count": 7,
   "metadata": {},
   "outputs": [
    {
     "name": "stdout",
     "output_type": "stream",
     "text": [
      "My first file written from Python \n",
      "\n",
      "---------------------------------\n",
      "\n",
      "Hello, world!\n",
      "\n"
     ]
    }
   ],
   "source": [
    "with open('../Files/test.txt', 'r') as myfile:\n",
    "    while True:\n",
    "        line = myfile.readline()\n",
    "        if len(line) == 0: # If there are no more lines\n",
    "            break\n",
    "        print(line)\n",
    "    "
   ]
  },
  {
   "cell_type": "markdown",
   "metadata": {},
   "source": [
    "### Read the whole file\n",
    "\n",
    "If the file is small or PC has enough memory, you can read the whole file into memory as a list using `readlines`."
   ]
  },
  {
   "cell_type": "code",
   "execution_count": 8,
   "metadata": {},
   "outputs": [
    {
     "name": "stdout",
     "output_type": "stream",
     "text": [
      "My first file written from Python \n",
      "\n",
      "---------------------------------\n",
      "\n",
      "Hello, world!\n",
      "\n"
     ]
    }
   ],
   "source": [
    "with open('../Files/test.txt', 'r') as myfile:\n",
    "    lines = myfile.readlines()\n",
    "    for line in lines:\n",
    "        print(line)"
   ]
  },
  {
   "cell_type": "markdown",
   "metadata": {},
   "source": [
    "or as a whole"
   ]
  },
  {
   "cell_type": "code",
   "execution_count": 9,
   "metadata": {},
   "outputs": [
    {
     "name": "stdout",
     "output_type": "stream",
     "text": [
      "My first file written from Python \n",
      "---------------------------------\n",
      "Hello, world!\n",
      "\n"
     ]
    }
   ],
   "source": [
    "with open('../Files/test.txt', 'r') as myfile:\n",
    "    whole_file = myfile.read()\n",
    "    print(whole_file)"
   ]
  },
  {
   "cell_type": "markdown",
   "metadata": {},
   "source": [
    "### Exercise 1\n",
    "\n",
    "Write a function the reads the file (humchr.txt) and writes to another file (gene_names.txt) a clean list of gene names."
   ]
  },
  {
   "cell_type": "code",
   "execution_count": 24,
   "metadata": {},
   "outputs": [],
   "source": [
    "def get_genes(infile,outfile):\n",
    "    \"\"\"\n",
    "    Function to extract a list of genes and write to file\n",
    "    \"\"\"\n",
    "    gene_list = []\n",
    "    with open(infile) as  gene:\n",
    "        tag = False\n",
    "        for line in gene:\n",
    "            if line.startswith('name'):\n",
    "                tag = True\n",
    "                pass\n",
    "            if tag:\n",
    "                items = line.split()\n",
    "                if len(items) > 0:\n",
    "                    gene_list.append(items[0])\n",
    "    gene_list = gene_list[1:-7]\n",
    "    with open(outfile, 'w') as outfile:\n",
    "        for i in gene_list:\n",
    "            outfile.write(i+'\\n')"
   ]
  },
  {
   "cell_type": "code",
   "execution_count": 25,
   "metadata": {},
   "outputs": [],
   "source": [
    "import genelist"
   ]
  },
  {
   "cell_type": "markdown",
   "metadata": {},
   "source": [
    "### Scripts and Modules\n",
    "\n",
    "A script is a file containing Python definitions and statements for performing some analysis. Scripts are known as when they are intended for use in other Python programs. Many Python modules come with Python as part of the standard library. \n",
    "\n",
    "You can get a list of available modules using help() and explore them."
   ]
  },
  {
   "cell_type": "code",
   "execution_count": 26,
   "metadata": {},
   "outputs": [
    {
     "name": "stdout",
     "output_type": "stream",
     "text": [
      "\n",
      "Please wait a moment while I gather a list of all available modules...\n",
      "\n"
     ]
    },
    {
     "name": "stderr",
     "output_type": "stream",
     "text": [
      "c:\\Users\\ander\\miniconda3\\envs\\summerschool\\Lib\\site-packages\\_distutils_hack\\__init__.py:32: UserWarning: Setuptools is replacing distutils. Support for replacing an already imported distutils is deprecated. In the future, this condition will fail. Register concerns at https://github.com/pypa/setuptools/issues/new?template=distutils-deprecation.yml\n",
      "  warnings.warn(\n"
     ]
    },
    {
     "name": "stdout",
     "output_type": "stream",
     "text": [
      "IPython             brotlicffi          matplotlib          start_pythonwin\n",
      "PIL                 bs4                 matplotlib_inline   stat\n",
      "PyQt6               builtins            mimetypes           statistics\n",
      "__future__          bz2                 mistune             string\n",
      "__hello__           cProfile            mkl                 stringprep\n",
      "__phello__          calendar            mkl_fft             struct\n",
      "_abc                certifi             mkl_random          subprocess\n",
      "_aix_support        cffi                mmap                sunau\n",
      "_argon2_cffi_bindings cgi                 mmapfile            symtable\n",
      "_ast                cgitb               mmsystem            sys\n",
      "_asyncio            charset_normalizer  modulefinder        sysargv\n",
      "_bisect             chunk               more_itertools      sysconfig\n",
      "_blake2             cmath               msilib              tabnanny\n",
      "_bootsubprocess     cmd                 msvcrt              tarfile\n",
      "_brotli             code                multiprocessing     telnetlib\n",
      "_bz2                codecs              nbclient            tempfile\n",
      "_cffi_backend       codeop              nbconvert           terminado\n",
      "_codecs             collections         nbformat            test\n",
      "_codecs_cn          colorama            nest_asyncio        textwrap\n",
      "_codecs_hk          colorsys            netbios             this\n",
      "_codecs_iso2022     comm                netrc               threading\n",
      "_codecs_jp          commctrl            nntplib             time\n",
      "_codecs_kr          compileall          notebook            timeit\n",
      "_codecs_tw          concurrent          notebook_shim       timer\n",
      "_collections        configparser        nt                  tinycss2\n",
      "_collections_abc    contextlib          ntpath              tkinter\n",
      "_compat_pickle      contextvars         ntsecuritycon       token\n",
      "_compression        contourpy           nturl2path          tokenize\n",
      "_contextvars        copy                numbers             tomli\n",
      "_csv                copyreg             numexpr             tomllib\n",
      "_ctypes             crypt               numpy               tornado\n",
      "_ctypes_test        csv                 odbc                trace\n",
      "_datetime           ctypes              opcode              traceback\n",
      "_decimal            curses              operator            tracemalloc\n",
      "_distutils_hack     cycler              optparse            traitlets\n",
      "_elementtree        dataclasses         ordered_set         tty\n",
      "_functools          datetime            os                  turtle\n",
      "_hashlib            dateutil            overrides           turtledemo\n",
      "_heapq              dbm                 packaging           typeguard\n",
      "_imp                dde                 pandas              types\n",
      "_io                 debugpy             pandocfilters       typing\n",
      "_json               decimal             parso               typing_extensions\n",
      "_locale             decorator           pathlib             tzdata\n",
      "_lsprof             defusedxml          pdb                 unicodedata\n",
      "_lzma               difflib             perfmon             unicodedata2\n",
      "_markupbase         dis                 pickle              unittest\n",
      "_md5                distutils           pickletools         urllib\n",
      "_msi                dnatools            pip                 urllib3\n",
      "_multibytecodec     doctest             pipes               uu\n",
      "_multiprocessing    email               pkg_resources       uuid\n",
      "_opcode             encodings           pkgutil             venv\n",
      "_operator           ensurepip           platform            warnings\n",
      "_osx_support        enum                platformdirs        wave\n",
      "_overlapped         errno               plistlib            wcwidth\n",
      "_pickle             executing           poplib              weakref\n",
      "_py_abc             fastjsonschema      posixpath           webbrowser\n",
      "_pydecimal          faulthandler        pprint              webencodings\n",
      "_pyio               filecmp             profile             websocket\n",
      "_queue              fileinput           prometheus_client   wheel\n",
      "_random             fnmatch             prompt_toolkit      widgetsnbextension\n",
      "_sha1               fontTools           pstats              win2kras\n",
      "_sha256             fractions           psutil              win32api\n",
      "_sha3               ftplib              pty                 win32clipboard\n",
      "_sha512             functools           pure_eval           win32com\n",
      "_signal             gc                  py_compile          win32con\n",
      "_sitebuiltins       genelist            pyclbr              win32console\n",
      "_socket             genericpath         pycparser           win32cred\n",
      "_sqlite3            getopt              pydoc               win32crypt\n",
      "_sre                getpass             pydoc_data          win32cryptcon\n",
      "_ssl                gettext             pyexpat             win32event\n",
      "_stat               glob                pygments            win32evtlog\n",
      "_statistics         graphlib            pylab               win32evtlogutil\n",
      "_string             gzip                pyparsing           win32file\n",
      "_strptime           h11                 pythoncom           win32gui\n",
      "_struct             hashlib             pythonjsonlogger    win32gui_struct\n",
      "_symtable           heapq               pytz                win32help\n",
      "_testbuffer         hmac                pywin               win32inet\n",
      "_testcapi           html                pywin32_bootstrap   win32inetcon\n",
      "_testconsole        http                pywin32_testutil    win32job\n",
      "_testimportmultiple httpcore            pywintypes          win32lz\n",
      "_testinternalcapi   httpx               qtconsole           win32net\n",
      "_testmultiphase     idlelib             qtpy                win32netcon\n",
      "_thread             idna                queue               win32pdh\n",
      "_threading_local    imaplib             quopri              win32pdhquery\n",
      "_tkinter            imghdr              random              win32pdhutil\n",
      "_tokenize           imp                 rasutil             win32pipe\n",
      "_tracemalloc        importlib           re                  win32print\n",
      "_typing             importlib_metadata  referencing         win32process\n",
      "_uuid               importlib_resources regcheck            win32profile\n",
      "_warnings           inflect             regutil             win32ras\n",
      "_weakref            inspect             reprlib             win32rcparser\n",
      "_weakrefset         io                  requests            win32security\n",
      "_win32sysloader     ipaddress           rfc3339_validator   win32service\n",
      "_win32verstamp_pywin32ctypes ipykernel           rfc3986_validator   win32serviceutil\n",
      "_winapi             ipykernel_launcher  rlcompleter         win32timezone\n",
      "_winxptheme         ipython_pygments_lexers rpds                win32trace\n",
      "_xxsubinterpreters  ipywidgets          runpy               win32traceutil\n",
      "_yaml               isapi               sched               win32transaction\n",
      "_zoneinfo           itertools           secrets             win32ts\n",
      "abc                 jedi                select              win32ui\n",
      "adodbapi            jinja2              selectors           win32uiole\n",
      "afxres              json                send2trash          win32verstamp\n",
      "aifc                json5               seqtools            win32wnet\n",
      "antigravity         jsonschema          servicemanager      win_inet_pton\n",
      "anyio               jsonschema_specifications setuptools          winerror\n",
      "argon2              jupyter             shelve              winioctlcon\n",
      "argparse            jupyter_client      shlex               winnt\n",
      "array               jupyter_console     shutil              winperf\n",
      "ast                 jupyter_core        signal              winpty\n",
      "asttokens           jupyter_events      sipbuild            winreg\n",
      "async_lru           jupyter_lsp         site                winsound\n",
      "asynchat            jupyter_server      six                 winxpgui\n",
      "asyncio             jupyter_server_terminals smtpd               winxptheme\n",
      "asyncore            jupyterlab          smtplib             wsgiref\n",
      "atexit              jupyterlab_pygments sndhdr              xdrlib\n",
      "attr                jupyterlab_server   sniffio             xml\n",
      "attrs               jupyterlab_widgets  socket              xmlrpc\n",
      "audioop             keyword             socketserver        xxlimited\n",
      "autocommand         kiwisolver          socks               xxlimited_35\n",
      "babel               lib2to3             sockshandler        xxsubtype\n",
      "backports           linecache           soupsieve           yaml\n",
      "bank                locale              sqlite3             zipapp\n",
      "base64              logging             sre_compile         zipfile\n",
      "bdb                 lzma                sre_constants       zipimport\n",
      "binascii            mailbox             sre_parse           zipp\n",
      "bisect              mailcap             ssl                 zlib\n",
      "bleach              markupsafe          sspi                zmq\n",
      "bottleneck          marshal             sspicon             zoneinfo\n",
      "brotli              math                stack_data          \n",
      "\n",
      "Enter any module name to get more help.  Or, type \"modules spam\" to search\n",
      "for modules whose name or summary contain the string \"spam\".\n",
      "\n"
     ]
    }
   ],
   "source": [
    "help('modules')"
   ]
  },
  {
   "cell_type": "markdown",
   "metadata": {},
   "source": [
    "### Writing you own modules\n",
    "\n",
    "All we need to do to create our own modules is to save our script as a file with a `.py` extension. Suppose, for example, this script is saved as a file named `seqtools.py`.\n",
    "\n",
    "```python\n",
    "def remove_at(pos, seq):\n",
    "    return seq[:pos] + seq[pos+1:]```\n",
    "    \n",
    "We can import the module as:"
   ]
  },
  {
   "cell_type": "code",
   "execution_count": 27,
   "metadata": {},
   "outputs": [],
   "source": [
    "import dnatools"
   ]
  },
  {
   "cell_type": "code",
   "execution_count": 28,
   "metadata": {},
   "outputs": [
    {
     "name": "stdout",
     "output_type": "stream",
     "text": [
      "There is an invalid base 'D' at position 2\n",
      "There is an invalid base 'F' at position 5\n",
      "There is an invalid base 'F' at position 8\n"
     ]
    }
   ],
   "source": [
    "dnatools.percentGC(\"ADTAFTAFTA\")"
   ]
  },
  {
   "cell_type": "code",
   "execution_count": 16,
   "metadata": {},
   "outputs": [
    {
     "name": "stdout",
     "output_type": "stream",
     "text": [
      "There is an invalid base 'V' at position 7\n",
      "There is an invalid base 'H' at position 8\n"
     ]
    },
    {
     "data": {
      "text/plain": [
       "False"
      ]
     },
     "execution_count": 16,
     "metadata": {},
     "output_type": "execute_result"
    }
   ],
   "source": [
    "dnatools.dnacheck(\"ACGAgTVHTGATA\")"
   ]
  },
  {
   "cell_type": "code",
   "execution_count": 17,
   "metadata": {},
   "outputs": [],
   "source": [
    "import seqtools"
   ]
  },
  {
   "cell_type": "code",
   "execution_count": 18,
   "metadata": {},
   "outputs": [
    {
     "data": {
      "text/plain": [
       "'A sting!'"
      ]
     },
     "execution_count": 18,
     "metadata": {},
     "output_type": "execute_result"
    }
   ],
   "source": [
    "s = \"A string!\"\n",
    "seqtools.remove_at(4,s)"
   ]
  },
  {
   "cell_type": "code",
   "execution_count": 19,
   "metadata": {},
   "outputs": [
    {
     "data": {
      "text/plain": [
       "'23000'"
      ]
     },
     "execution_count": 19,
     "metadata": {},
     "output_type": "execute_result"
    }
   ],
   "source": [
    "'23,000,'.replace(',','')"
   ]
  },
  {
   "cell_type": "code",
   "execution_count": 29,
   "metadata": {},
   "outputs": [],
   "source": [
    "import genelist"
   ]
  },
  {
   "cell_type": "code",
   "execution_count": 30,
   "metadata": {},
   "outputs": [],
   "source": [
    "from genelist import get_genes"
   ]
  },
  {
   "cell_type": "markdown",
   "metadata": {},
   "source": [
    "Modules are useful when you want to analyse large data using the HPC or even create your library of handy functions. \n",
    "\n",
    "#### Running scripts\n",
    "\n",
    "When you have put your commands into a .py file, you can execute on the command line by invoking the Python interpreter using `python script.py.`"
   ]
  },
  {
   "cell_type": "markdown",
   "metadata": {},
   "source": [
    "### Exercise 2\n",
    "\n",
    "1. Convert the function you wrote in exercise 1 into a python module. Then, import the module and use the function to read `humchrx.txt` file and create a gene list file.\n",
    "2. Create a stand-alone script that does all the above.\n",
    "\n",
    "\n",
    "### Script that takes command line arguments\n",
    "So far, we can create a script that does one thing. In this case, you have to edit the script if you have a new gene file to analyse or you want to use a different name for the output file.\n",
    "\n",
    "#### sys.argv\n",
    "sys.argv is a list in Python, which contains the command line arguments passed to the script. Lets add this to a script `sysargv.py` and run on the command line. \n",
    "\n",
    "```python\n",
    "import sys\n",
    "print(\"This is the name of the script: \", sys.argv[0])\n",
    "print(\"Number of arguments: \", len(sys.argv))\n",
    "print(\"The arguments are: \" , str(sys.argv))```"
   ]
  },
  {
   "cell_type": "code",
   "execution_count": 31,
   "metadata": {},
   "outputs": [
    {
     "name": "stdout",
     "output_type": "stream",
     "text": [
      "This is the name of the script:  sysargv.py\n",
      "Number of arguments:  2\n",
      "The arguments are:  ['sysargv.py', 'test']\n"
     ]
    }
   ],
   "source": [
    "!python sysargv.py test"
   ]
  },
  {
   "cell_type": "code",
   "execution_count": 32,
   "metadata": {},
   "outputs": [],
   "source": [
    "!python genelist.py ../Files/humchrx.txt ../Files/command_out.txt"
   ]
  },
  {
   "cell_type": "markdown",
   "metadata": {},
   "source": [
    "### Exercise 3\n",
    "\n",
    "- Using the same concept, convert your script in your previous exercise to take command line arguments (input and output files)"
   ]
  }
 ],
 "metadata": {
  "kernelspec": {
   "display_name": "summerschool",
   "language": "python",
   "name": "python3"
  },
  "language_info": {
   "codemirror_mode": {
    "name": "ipython",
    "version": 3
   },
   "file_extension": ".py",
   "mimetype": "text/x-python",
   "name": "python",
   "nbconvert_exporter": "python",
   "pygments_lexer": "ipython3",
   "version": "3.11.13"
  }
 },
 "nbformat": 4,
 "nbformat_minor": 2
}
