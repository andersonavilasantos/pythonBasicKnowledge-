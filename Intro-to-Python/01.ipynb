{
 "cells": [
  {
   "cell_type": "markdown",
   "metadata": {},
   "source": [
    "# Getting started\n",
    "\n",
    "Python can be used as a calculator. Simply type in expressions to get them evaluated.\n",
    "\n",
    "## Basic syntax for statements \n",
    "The basic rules for writing simple statements and expressions in Python are:\n",
    "\n",
    "* No spaces or tab characters allowed at the start of a statement: Indentation plays a special role in Python (see the section on control statements). For now, simply ensure that all statements start at the beginning of the line.\n",
    "* The '#' character indicates that the rest of the line is a comment\n",
    "* Statements finish at the end of the line:\n",
    "* Except when there is an open bracket or parenthesis:\n",
    "\n",
    "```python\n",
    "1+2\n",
    "+3 #illegal continuation of the sum\n",
    "\n",
    "(1+2\n",
    "        + 3) # perfectly OK even with spaces\n",
    "```\n",
    "* A single backslash at the end of the line can also be used to indicate that a statement is still incomplete \n",
    "```python\n",
    "1 + \\\n",
    "2 + 3 # this is also OK\n",
    "```\n",
    "The jupyter notebook system for writing Python intersperses text (like this) with Python statements. Try typing something into the cell (box) below and press the 'run cell' button above (triangle+line symbol) to execute it.\n"
   ]
  },
  {
   "cell_type": "code",
   "execution_count": 1,
   "metadata": {},
   "outputs": [
    {
     "data": {
      "text/plain": [
       "8"
      ]
     },
     "execution_count": 1,
     "metadata": {},
     "output_type": "execute_result"
    }
   ],
   "source": [
    "(1+3\n",
    " +4)"
   ]
  },
  {
   "cell_type": "markdown",
   "metadata": {},
   "source": []
  },
  {
   "cell_type": "code",
   "execution_count": 2,
   "metadata": {},
   "outputs": [
    {
     "data": {
      "text/plain": [
       "8"
      ]
     },
     "execution_count": 2,
     "metadata": {},
     "output_type": "execute_result"
    }
   ],
   "source": [
    "1+3\\\n",
    "+4"
   ]
  },
  {
   "cell_type": "code",
   "execution_count": 3,
   "metadata": {},
   "outputs": [
    {
     "data": {
      "text/plain": [
       "6"
      ]
     },
     "execution_count": 3,
     "metadata": {},
     "output_type": "execute_result"
    }
   ],
   "source": [
    "1+2+3 #doing math"
   ]
  },
  {
   "cell_type": "markdown",
   "metadata": {},
   "source": [
    "### Your First Code"
   ]
  },
  {
   "cell_type": "code",
   "execution_count": 4,
   "metadata": {},
   "outputs": [
    {
     "name": "stdout",
     "output_type": "stream",
     "text": [
      "Hello World!\n"
     ]
    }
   ],
   "source": [
    "print(\"Hello World!\")"
   ]
  },
  {
   "cell_type": "code",
   "execution_count": 5,
   "metadata": {},
   "outputs": [
    {
     "name": "stdout",
     "output_type": "stream",
     "text": [
      "My name is Anderson\n"
     ]
    }
   ],
   "source": [
    "print('My name is Anderson')"
   ]
  },
  {
   "cell_type": "markdown",
   "metadata": {},
   "source": [
    "Notice the syntax. The keyword `print` is a built-in command, and 'Hello World' is a string. In Bioinformatics, a string example would be DNA or amino acids sequence. \n",
    "\n",
    "For example:"
   ]
  },
  {
   "cell_type": "code",
   "execution_count": 6,
   "metadata": {},
   "outputs": [
    {
     "name": "stdout",
     "output_type": "stream",
     "text": [
      "ACGTACTAG\n"
     ]
    }
   ],
   "source": [
    "print('ACGTACTAG')"
   ]
  },
  {
   "cell_type": "code",
   "execution_count": 7,
   "metadata": {},
   "outputs": [
    {
     "data": {
      "text/plain": [
       "'Anderson'"
      ]
     },
     "execution_count": 7,
     "metadata": {},
     "output_type": "execute_result"
    }
   ],
   "source": [
    "input('What is your name?')"
   ]
  },
  {
   "cell_type": "markdown",
   "metadata": {},
   "source": [
    "You can write a program that asks for a DNA sequence, and prints it out. This is as simple as:"
   ]
  },
  {
   "cell_type": "code",
   "execution_count": 8,
   "metadata": {},
   "outputs": [
    {
     "name": "stdout",
     "output_type": "stream",
     "text": [
      "ACTGAT\n"
     ]
    }
   ],
   "source": [
    "print(input(\"Please Enter a DNA sequence: \"))"
   ]
  },
  {
   "cell_type": "code",
   "execution_count": 9,
   "metadata": {},
   "outputs": [
    {
     "name": "stdout",
     "output_type": "stream",
     "text": [
      "AA\n"
     ]
    }
   ],
   "source": [
    "print(input(\"Please Enter aa sequence: \"))"
   ]
  },
  {
   "cell_type": "markdown",
   "metadata": {},
   "source": [
    "As we go along, we'll learn how to check if the user has entered a valid DNA or Amino acid sequence. For, now, let's learn some basics. "
   ]
  },
  {
   "cell_type": "markdown",
   "metadata": {},
   "source": [
    "### Getting help\n",
    "Python has extensive help built in. You can execute **help()** for an interactive help session or **help(x)** for any library, object or type **x** to get more information. For example:"
   ]
  },
  {
   "cell_type": "code",
   "execution_count": 10,
   "metadata": {},
   "outputs": [
    {
     "name": "stdout",
     "output_type": "stream",
     "text": [
      "Welcome to Python 3.11's help utility! If this is your first time using\n",
      "Python, you should definitely check out the tutorial at\n",
      "https://docs.python.org/3.11/tutorial/.\n",
      "\n",
      "Enter the name of any module, keyword, or topic to get help on writing\n",
      "Python programs and using Python modules.  To get a list of available\n",
      "modules, keywords, symbols, or topics, enter \"modules\", \"keywords\",\n",
      "\"symbols\", or \"topics\".\n",
      "\n",
      "Each module also comes with a one-line summary of what it does; to list\n",
      "the modules whose name or summary contain a given string such as \"spam\",\n",
      "enter \"modules spam\".\n",
      "\n",
      "To quit this help utility and return to the interpreter,\n",
      "enter \"q\" or \"quit\".\n",
      "\n",
      "String and Bytes literals\n",
      "*************************\n",
      "\n",
      "String literals are described by the following lexical definitions:\n",
      "\n",
      "   stringliteral   ::= [stringprefix](shortstring | longstring)\n",
      "   stringprefix    ::= \"r\" | \"u\" | \"R\" | \"U\" | \"f\" | \"F\"\n",
      "                    | \"fr\" | \"Fr\" | \"fR\" | \"FR\" | \"rf\" | \"rF\" | \"Rf\" | \"RF\"\n",
      "   shortstring     ::= \"'\" shortstringitem* \"'\" | '\"' shortstringitem* '\"'\n",
      "   longstring      ::= \"'''\" longstringitem* \"'''\" | '\"\"\"' longstringitem* '\"\"\"'\n",
      "   shortstringitem ::= shortstringchar | stringescapeseq\n",
      "   longstringitem  ::= longstringchar | stringescapeseq\n",
      "   shortstringchar ::= <any source character except \"\\\" or newline or the quote>\n",
      "   longstringchar  ::= <any source character except \"\\\">\n",
      "   stringescapeseq ::= \"\\\" <any source character>\n",
      "\n",
      "   bytesliteral   ::= bytesprefix(shortbytes | longbytes)\n",
      "   bytesprefix    ::= \"b\" | \"B\" | \"br\" | \"Br\" | \"bR\" | \"BR\" | \"rb\" | \"rB\" | \"Rb\" | \"RB\"\n",
      "   shortbytes     ::= \"'\" shortbytesitem* \"'\" | '\"' shortbytesitem* '\"'\n",
      "   longbytes      ::= \"'''\" longbytesitem* \"'''\" | '\"\"\"' longbytesitem* '\"\"\"'\n",
      "   shortbytesitem ::= shortbyteschar | bytesescapeseq\n",
      "   longbytesitem  ::= longbyteschar | bytesescapeseq\n",
      "   shortbyteschar ::= <any ASCII character except \"\\\" or newline or the quote>\n",
      "   longbyteschar  ::= <any ASCII character except \"\\\">\n",
      "   bytesescapeseq ::= \"\\\" <any ASCII character>\n",
      "\n",
      "One syntactic restriction not indicated by these productions is that\n",
      "whitespace is not allowed between the \"stringprefix\" or \"bytesprefix\"\n",
      "and the rest of the literal. The source character set is defined by\n",
      "the encoding declaration; it is UTF-8 if no encoding declaration is\n",
      "given in the source file; see section Encoding declarations.\n",
      "\n",
      "In plain English: Both types of literals can be enclosed in matching\n",
      "single quotes (\"'\") or double quotes (\"\"\").  They can also be enclosed\n",
      "in matching groups of three single or double quotes (these are\n",
      "generally referred to as *triple-quoted strings*).  The backslash\n",
      "(\"\\\") character is used to escape characters that otherwise have a\n",
      "special meaning, such as newline, backslash itself, or the quote\n",
      "character.\n",
      "\n",
      "Bytes literals are always prefixed with \"'b'\" or \"'B'\"; they produce\n",
      "an instance of the \"bytes\" type instead of the \"str\" type.  They may\n",
      "only contain ASCII characters; bytes with a numeric value of 128 or\n",
      "greater must be expressed with escapes.\n",
      "\n",
      "Both string and bytes literals may optionally be prefixed with a\n",
      "letter \"'r'\" or \"'R'\"; such strings are called *raw strings* and treat\n",
      "backslashes as literal characters.  As a result, in string literals,\n",
      "\"'\\U'\" and \"'\\u'\" escapes in raw strings are not treated specially.\n",
      "Given that Python 2.x’s raw unicode literals behave differently than\n",
      "Python 3.x’s the \"'ur'\" syntax is not supported.\n",
      "\n",
      "New in version 3.3: The \"'rb'\" prefix of raw bytes literals has been\n",
      "added as a synonym of \"'br'\".Support for the unicode legacy literal\n",
      "(\"u'value'\") was reintroduced to simplify the maintenance of dual\n",
      "Python 2.x and 3.x codebases. See **PEP 414** for more information.\n",
      "\n",
      "A string literal with \"'f'\" or \"'F'\" in its prefix is a *formatted\n",
      "string literal*; see f-strings.  The \"'f'\" may be combined with \"'r'\",\n",
      "but not with \"'b'\" or \"'u'\", therefore raw formatted strings are\n",
      "possible, but formatted bytes literals are not.\n",
      "\n",
      "In triple-quoted literals, unescaped newlines and quotes are allowed\n",
      "(and are retained), except that three unescaped quotes in a row\n",
      "terminate the literal.  (A “quote” is the character used to open the\n",
      "literal, i.e. either \"'\" or \"\"\".)\n",
      "\n",
      "\n",
      "Escape sequences\n",
      "================\n",
      "\n",
      "Unless an \"'r'\" or \"'R'\" prefix is present, escape sequences in string\n",
      "and bytes literals are interpreted according to rules similar to those\n",
      "used by Standard C.  The recognized escape sequences are:\n",
      "\n",
      "+---------------------------+-----------------------------------+---------+\n",
      "| Escape Sequence           | Meaning                           | Notes   |\n",
      "|===========================|===================================|=========|\n",
      "| \"\\\"<newline>              | Backslash and newline ignored     | (1)     |\n",
      "+---------------------------+-----------------------------------+---------+\n",
      "| \"\\\\\"                      | Backslash (\"\\\")                   |         |\n",
      "+---------------------------+-----------------------------------+---------+\n",
      "| \"\\'\"                      | Single quote (\"'\")                |         |\n",
      "+---------------------------+-----------------------------------+---------+\n",
      "| \"\\\"\"                      | Double quote (\"\"\")                |         |\n",
      "+---------------------------+-----------------------------------+---------+\n",
      "| \"\\a\"                      | ASCII Bell (BEL)                  |         |\n",
      "+---------------------------+-----------------------------------+---------+\n",
      "| \"\\b\"                      | ASCII Backspace (BS)              |         |\n",
      "+---------------------------+-----------------------------------+---------+\n",
      "| \"\\f\"                      | ASCII Formfeed (FF)               |         |\n",
      "+---------------------------+-----------------------------------+---------+\n",
      "| \"\\n\"                      | ASCII Linefeed (LF)               |         |\n",
      "+---------------------------+-----------------------------------+---------+\n",
      "| \"\\r\"                      | ASCII Carriage Return (CR)        |         |\n",
      "+---------------------------+-----------------------------------+---------+\n",
      "| \"\\t\"                      | ASCII Horizontal Tab (TAB)        |         |\n",
      "+---------------------------+-----------------------------------+---------+\n",
      "| \"\\v\"                      | ASCII Vertical Tab (VT)           |         |\n",
      "+---------------------------+-----------------------------------+---------+\n",
      "| \"\\*ooo*\"                  | Character with octal value *ooo*  | (2,4)   |\n",
      "+---------------------------+-----------------------------------+---------+\n",
      "| \"\\x*hh*\"                  | Character with hex value *hh*     | (3,4)   |\n",
      "+---------------------------+-----------------------------------+---------+\n",
      "\n",
      "Escape sequences only recognized in string literals are:\n",
      "\n",
      "+---------------------------+-----------------------------------+---------+\n",
      "| Escape Sequence           | Meaning                           | Notes   |\n",
      "|===========================|===================================|=========|\n",
      "| \"\\N{*name*}\"              | Character named *name* in the     | (5)     |\n",
      "|                           | Unicode database                  |         |\n",
      "+---------------------------+-----------------------------------+---------+\n",
      "| \"\\u*xxxx*\"                | Character with 16-bit hex value   | (6)     |\n",
      "|                           | *xxxx*                            |         |\n",
      "+---------------------------+-----------------------------------+---------+\n",
      "| \"\\U*xxxxxxxx*\"            | Character with 32-bit hex value   | (7)     |\n",
      "|                           | *xxxxxxxx*                        |         |\n",
      "+---------------------------+-----------------------------------+---------+\n",
      "\n",
      "Notes:\n",
      "\n",
      "1. A backslash can be added at the end of a line to ignore the\n",
      "   newline:\n",
      "\n",
      "      >>> 'This string will not include \\\n",
      "      ... backslashes or newline characters.'\n",
      "      'This string will not include backslashes or newline characters.'\n",
      "\n",
      "   The same result can be achieved using triple-quoted strings, or\n",
      "   parentheses and string literal concatenation.\n",
      "\n",
      "2. As in Standard C, up to three octal digits are accepted.\n",
      "\n",
      "   Changed in version 3.11: Octal escapes with value larger than\n",
      "   \"0o377\" produce a \"DeprecationWarning\". In a future Python version\n",
      "   they will be a \"SyntaxWarning\" and eventually a \"SyntaxError\".\n",
      "\n",
      "3. Unlike in Standard C, exactly two hex digits are required.\n",
      "\n",
      "4. In a bytes literal, hexadecimal and octal escapes denote the byte\n",
      "   with the given value. In a string literal, these escapes denote a\n",
      "   Unicode character with the given value.\n",
      "\n",
      "5. Changed in version 3.3: Support for name aliases [1] has been\n",
      "   added.\n",
      "\n",
      "6. Exactly four hex digits are required.\n",
      "\n",
      "7. Any Unicode character can be encoded this way.  Exactly eight hex\n",
      "   digits are required.\n",
      "\n",
      "Unlike Standard C, all unrecognized escape sequences are left in the\n",
      "string unchanged, i.e., *the backslash is left in the result*.  (This\n",
      "behavior is useful when debugging: if an escape sequence is mistyped,\n",
      "the resulting output is more easily recognized as broken.)  It is also\n",
      "important to note that the escape sequences only recognized in string\n",
      "literals fall into the category of unrecognized escapes for bytes\n",
      "literals.\n",
      "\n",
      "Changed in version 3.6: Unrecognized escape sequences produce a\n",
      "\"DeprecationWarning\".  In a future Python version they will be a\n",
      "\"SyntaxWarning\" and eventually a \"SyntaxError\".\n",
      "\n",
      "Even in a raw literal, quotes can be escaped with a backslash, but the\n",
      "backslash remains in the result; for example, \"r\"\\\"\"\" is a valid\n",
      "string literal consisting of two characters: a backslash and a double\n",
      "quote; \"r\"\\\"\" is not a valid string literal (even a raw string cannot\n",
      "end in an odd number of backslashes).  Specifically, *a raw literal\n",
      "cannot end in a single backslash* (since the backslash would escape\n",
      "the following quote character).  Note also that a single backslash\n",
      "followed by a newline is interpreted as those two characters as part\n",
      "of the literal, *not* as a line continuation.\n",
      "\n",
      "Related help topics: str, UNICODE, SEQUENCES, STRINGMETHODS, FORMATTING,\n",
      "TYPES\n",
      "\n",
      "String and Bytes literals\n",
      "*************************\n",
      "\n",
      "String literals are described by the following lexical definitions:\n",
      "\n",
      "   stringliteral   ::= [stringprefix](shortstring | longstring)\n",
      "   stringprefix    ::= \"r\" | \"u\" | \"R\" | \"U\" | \"f\" | \"F\"\n",
      "                    | \"fr\" | \"Fr\" | \"fR\" | \"FR\" | \"rf\" | \"rF\" | \"Rf\" | \"RF\"\n",
      "   shortstring     ::= \"'\" shortstringitem* \"'\" | '\"' shortstringitem* '\"'\n",
      "   longstring      ::= \"'''\" longstringitem* \"'''\" | '\"\"\"' longstringitem* '\"\"\"'\n",
      "   shortstringitem ::= shortstringchar | stringescapeseq\n",
      "   longstringitem  ::= longstringchar | stringescapeseq\n",
      "   shortstringchar ::= <any source character except \"\\\" or newline or the quote>\n",
      "   longstringchar  ::= <any source character except \"\\\">\n",
      "   stringescapeseq ::= \"\\\" <any source character>\n",
      "\n",
      "   bytesliteral   ::= bytesprefix(shortbytes | longbytes)\n",
      "   bytesprefix    ::= \"b\" | \"B\" | \"br\" | \"Br\" | \"bR\" | \"BR\" | \"rb\" | \"rB\" | \"Rb\" | \"RB\"\n",
      "   shortbytes     ::= \"'\" shortbytesitem* \"'\" | '\"' shortbytesitem* '\"'\n",
      "   longbytes      ::= \"'''\" longbytesitem* \"'''\" | '\"\"\"' longbytesitem* '\"\"\"'\n",
      "   shortbytesitem ::= shortbyteschar | bytesescapeseq\n",
      "   longbytesitem  ::= longbyteschar | bytesescapeseq\n",
      "   shortbyteschar ::= <any ASCII character except \"\\\" or newline or the quote>\n",
      "   longbyteschar  ::= <any ASCII character except \"\\\">\n",
      "   bytesescapeseq ::= \"\\\" <any ASCII character>\n",
      "\n",
      "One syntactic restriction not indicated by these productions is that\n",
      "whitespace is not allowed between the \"stringprefix\" or \"bytesprefix\"\n",
      "and the rest of the literal. The source character set is defined by\n",
      "the encoding declaration; it is UTF-8 if no encoding declaration is\n",
      "given in the source file; see section Encoding declarations.\n",
      "\n",
      "In plain English: Both types of literals can be enclosed in matching\n",
      "single quotes (\"'\") or double quotes (\"\"\").  They can also be enclosed\n",
      "in matching groups of three single or double quotes (these are\n",
      "generally referred to as *triple-quoted strings*).  The backslash\n",
      "(\"\\\") character is used to escape characters that otherwise have a\n",
      "special meaning, such as newline, backslash itself, or the quote\n",
      "character.\n",
      "\n",
      "Bytes literals are always prefixed with \"'b'\" or \"'B'\"; they produce\n",
      "an instance of the \"bytes\" type instead of the \"str\" type.  They may\n",
      "only contain ASCII characters; bytes with a numeric value of 128 or\n",
      "greater must be expressed with escapes.\n",
      "\n",
      "Both string and bytes literals may optionally be prefixed with a\n",
      "letter \"'r'\" or \"'R'\"; such strings are called *raw strings* and treat\n",
      "backslashes as literal characters.  As a result, in string literals,\n",
      "\"'\\U'\" and \"'\\u'\" escapes in raw strings are not treated specially.\n",
      "Given that Python 2.x’s raw unicode literals behave differently than\n",
      "Python 3.x’s the \"'ur'\" syntax is not supported.\n",
      "\n",
      "New in version 3.3: The \"'rb'\" prefix of raw bytes literals has been\n",
      "added as a synonym of \"'br'\".Support for the unicode legacy literal\n",
      "(\"u'value'\") was reintroduced to simplify the maintenance of dual\n",
      "Python 2.x and 3.x codebases. See **PEP 414** for more information.\n",
      "\n",
      "A string literal with \"'f'\" or \"'F'\" in its prefix is a *formatted\n",
      "string literal*; see f-strings.  The \"'f'\" may be combined with \"'r'\",\n",
      "but not with \"'b'\" or \"'u'\", therefore raw formatted strings are\n",
      "possible, but formatted bytes literals are not.\n",
      "\n",
      "In triple-quoted literals, unescaped newlines and quotes are allowed\n",
      "(and are retained), except that three unescaped quotes in a row\n",
      "terminate the literal.  (A “quote” is the character used to open the\n",
      "literal, i.e. either \"'\" or \"\"\".)\n",
      "\n",
      "\n",
      "Escape sequences\n",
      "================\n",
      "\n",
      "Unless an \"'r'\" or \"'R'\" prefix is present, escape sequences in string\n",
      "and bytes literals are interpreted according to rules similar to those\n",
      "used by Standard C.  The recognized escape sequences are:\n",
      "\n",
      "+---------------------------+-----------------------------------+---------+\n",
      "| Escape Sequence           | Meaning                           | Notes   |\n",
      "|===========================|===================================|=========|\n",
      "| \"\\\"<newline>              | Backslash and newline ignored     | (1)     |\n",
      "+---------------------------+-----------------------------------+---------+\n",
      "| \"\\\\\"                      | Backslash (\"\\\")                   |         |\n",
      "+---------------------------+-----------------------------------+---------+\n",
      "| \"\\'\"                      | Single quote (\"'\")                |         |\n",
      "+---------------------------+-----------------------------------+---------+\n",
      "| \"\\\"\"                      | Double quote (\"\"\")                |         |\n",
      "+---------------------------+-----------------------------------+---------+\n",
      "| \"\\a\"                      | ASCII Bell (BEL)                  |         |\n",
      "+---------------------------+-----------------------------------+---------+\n",
      "| \"\\b\"                      | ASCII Backspace (BS)              |         |\n",
      "+---------------------------+-----------------------------------+---------+\n",
      "| \"\\f\"                      | ASCII Formfeed (FF)               |         |\n",
      "+---------------------------+-----------------------------------+---------+\n",
      "| \"\\n\"                      | ASCII Linefeed (LF)               |         |\n",
      "+---------------------------+-----------------------------------+---------+\n",
      "| \"\\r\"                      | ASCII Carriage Return (CR)        |         |\n",
      "+---------------------------+-----------------------------------+---------+\n",
      "| \"\\t\"                      | ASCII Horizontal Tab (TAB)        |         |\n",
      "+---------------------------+-----------------------------------+---------+\n",
      "| \"\\v\"                      | ASCII Vertical Tab (VT)           |         |\n",
      "+---------------------------+-----------------------------------+---------+\n",
      "| \"\\*ooo*\"                  | Character with octal value *ooo*  | (2,4)   |\n",
      "+---------------------------+-----------------------------------+---------+\n",
      "| \"\\x*hh*\"                  | Character with hex value *hh*     | (3,4)   |\n",
      "+---------------------------+-----------------------------------+---------+\n",
      "\n",
      "Escape sequences only recognized in string literals are:\n",
      "\n",
      "+---------------------------+-----------------------------------+---------+\n",
      "| Escape Sequence           | Meaning                           | Notes   |\n",
      "|===========================|===================================|=========|\n",
      "| \"\\N{*name*}\"              | Character named *name* in the     | (5)     |\n",
      "|                           | Unicode database                  |         |\n",
      "+---------------------------+-----------------------------------+---------+\n",
      "| \"\\u*xxxx*\"                | Character with 16-bit hex value   | (6)     |\n",
      "|                           | *xxxx*                            |         |\n",
      "+---------------------------+-----------------------------------+---------+\n",
      "| \"\\U*xxxxxxxx*\"            | Character with 32-bit hex value   | (7)     |\n",
      "|                           | *xxxxxxxx*                        |         |\n",
      "+---------------------------+-----------------------------------+---------+\n",
      "\n",
      "Notes:\n",
      "\n",
      "1. A backslash can be added at the end of a line to ignore the\n",
      "   newline:\n",
      "\n",
      "      >>> 'This string will not include \\\n",
      "      ... backslashes or newline characters.'\n",
      "      'This string will not include backslashes or newline characters.'\n",
      "\n",
      "   The same result can be achieved using triple-quoted strings, or\n",
      "   parentheses and string literal concatenation.\n",
      "\n",
      "2. As in Standard C, up to three octal digits are accepted.\n",
      "\n",
      "   Changed in version 3.11: Octal escapes with value larger than\n",
      "   \"0o377\" produce a \"DeprecationWarning\". In a future Python version\n",
      "   they will be a \"SyntaxWarning\" and eventually a \"SyntaxError\".\n",
      "\n",
      "3. Unlike in Standard C, exactly two hex digits are required.\n",
      "\n",
      "4. In a bytes literal, hexadecimal and octal escapes denote the byte\n",
      "   with the given value. In a string literal, these escapes denote a\n",
      "   Unicode character with the given value.\n",
      "\n",
      "5. Changed in version 3.3: Support for name aliases [1] has been\n",
      "   added.\n",
      "\n",
      "6. Exactly four hex digits are required.\n",
      "\n",
      "7. Any Unicode character can be encoded this way.  Exactly eight hex\n",
      "   digits are required.\n",
      "\n",
      "Unlike Standard C, all unrecognized escape sequences are left in the\n",
      "string unchanged, i.e., *the backslash is left in the result*.  (This\n",
      "behavior is useful when debugging: if an escape sequence is mistyped,\n",
      "the resulting output is more easily recognized as broken.)  It is also\n",
      "important to note that the escape sequences only recognized in string\n",
      "literals fall into the category of unrecognized escapes for bytes\n",
      "literals.\n",
      "\n",
      "Changed in version 3.6: Unrecognized escape sequences produce a\n",
      "\"DeprecationWarning\".  In a future Python version they will be a\n",
      "\"SyntaxWarning\" and eventually a \"SyntaxError\".\n",
      "\n",
      "Even in a raw literal, quotes can be escaped with a backslash, but the\n",
      "backslash remains in the result; for example, \"r\"\\\"\"\" is a valid\n",
      "string literal consisting of two characters: a backslash and a double\n",
      "quote; \"r\"\\\"\" is not a valid string literal (even a raw string cannot\n",
      "end in an odd number of backslashes).  Specifically, *a raw literal\n",
      "cannot end in a single backslash* (since the backslash would escape\n",
      "the following quote character).  Note also that a single backslash\n",
      "followed by a newline is interpreted as those two characters as part\n",
      "of the literal, *not* as a line continuation.\n",
      "\n",
      "Related help topics: str, UNICODE, SEQUENCES, STRINGMETHODS, FORMATTING,\n",
      "TYPES\n",
      "\n",
      "\n",
      "You are now leaving help and returning to the Python interpreter.\n",
      "If you want to ask for help on a particular object directly from the\n",
      "interpreter, you can type \"help(object)\".  Executing \"help('string')\"\n",
      "has the same effect as typing a particular string at the help> prompt.\n"
     ]
    }
   ],
   "source": [
    "help()"
   ]
  },
  {
   "cell_type": "markdown",
   "metadata": {},
   "source": [
    "In the interactive session above, enter **print**. Alternatively, you can obtain the same information by typing:"
   ]
  },
  {
   "cell_type": "code",
   "execution_count": 11,
   "metadata": {},
   "outputs": [
    {
     "data": {
      "text/plain": [
       "'Anderson'"
      ]
     },
     "execution_count": 11,
     "metadata": {},
     "output_type": "execute_result"
    }
   ],
   "source": [
    "input(prompt='Enter your name: ')"
   ]
  },
  {
   "cell_type": "code",
   "execution_count": 12,
   "metadata": {},
   "outputs": [
    {
     "name": "stdout",
     "output_type": "stream",
     "text": [
      "Help on built-in function print in module builtins:\n",
      "\n",
      "print(*args, sep=' ', end='\\n', file=None, flush=False)\n",
      "    Prints the values to a stream, or to sys.stdout by default.\n",
      "    \n",
      "    sep\n",
      "      string inserted between values, default a space.\n",
      "    end\n",
      "      string appended after the last value, default a newline.\n",
      "    file\n",
      "      a file-like object (stream); defaults to the current sys.stdout.\n",
      "    flush\n",
      "      whether to forcibly flush the stream.\n",
      "\n"
     ]
    }
   ],
   "source": [
    "help(print)"
   ]
  },
  {
   "cell_type": "markdown",
   "metadata": {},
   "source": [
    "You can also print many items, and specify a separator. This is the delimiter. Below, we are using tab. "
   ]
  },
  {
   "cell_type": "code",
   "execution_count": 13,
   "metadata": {},
   "outputs": [
    {
     "name": "stdout",
     "output_type": "stream",
     "text": [
      "Name\tID\tAge\tGender\n"
     ]
    }
   ],
   "source": [
    "print('Name', 'ID', 'Age', 'Gender', sep='\\t')"
   ]
  },
  {
   "cell_type": "markdown",
   "metadata": {},
   "source": [
    "# Variables & Values"
   ]
  },
  {
   "cell_type": "markdown",
   "metadata": {},
   "source": [
    "A name that is used to denote something or a value is called a variable. In Python, variables can be declared and values can be assigned to it as follows:"
   ]
  },
  {
   "cell_type": "code",
   "execution_count": 14,
   "metadata": {},
   "outputs": [],
   "source": [
    "a =  2+3"
   ]
  },
  {
   "cell_type": "code",
   "execution_count": 15,
   "metadata": {},
   "outputs": [
    {
     "data": {
      "text/plain": [
       "5"
      ]
     },
     "execution_count": 15,
     "metadata": {},
     "output_type": "execute_result"
    }
   ],
   "source": [
    "a"
   ]
  },
  {
   "cell_type": "code",
   "execution_count": 16,
   "metadata": {},
   "outputs": [
    {
     "name": "stdout",
     "output_type": "stream",
     "text": [
      "7 Hey\n"
     ]
    }
   ],
   "source": [
    "x = 2          # anything after a '#' is a comment\n",
    "y = 5\n",
    "xy = 'Hey'\n",
    "print(x+y, xy)"
   ]
  },
  {
   "cell_type": "markdown",
   "metadata": {},
   "source": [
    "Multiple variables can be assigned with the same value."
   ]
  },
  {
   "cell_type": "code",
   "execution_count": 17,
   "metadata": {},
   "outputs": [
    {
     "name": "stdout",
     "output_type": "stream",
     "text": [
      "1 1\n"
     ]
    }
   ],
   "source": [
    "x = y = 1\n",
    "print(x,y)"
   ]
  },
  {
   "cell_type": "markdown",
   "metadata": {},
   "source": [
    "To understand how Python asigns variables we will use: http://www.pythontutor.com/visualize.html. We'll use this to visualize what goes on behind the scene as you assign a value to a variable. "
   ]
  },
  {
   "cell_type": "markdown",
   "metadata": {},
   "source": [
    "### Datatypes\n",
    "The basic types build into Python include `float` (floating point numbers), `int` (integers), `str` (unicode character strings) and `bool` (boolean). Some examples of each:\n",
    "\n",
    "#### Intergers\n",
    "\n",
    "Their type is `int`, and they can have as many digits as you want."
   ]
  },
  {
   "cell_type": "code",
   "execution_count": 18,
   "metadata": {},
   "outputs": [
    {
     "data": {
      "text/plain": [
       "1"
      ]
     },
     "execution_count": 18,
     "metadata": {},
     "output_type": "execute_result"
    }
   ],
   "source": [
    "1 #simple interger"
   ]
  },
  {
   "cell_type": "code",
   "execution_count": 19,
   "metadata": {},
   "outputs": [
    {
     "data": {
      "text/plain": [
       "-12"
      ]
     },
     "execution_count": 19,
     "metadata": {},
     "output_type": "execute_result"
    }
   ],
   "source": [
    "-12 #a negative integer"
   ]
  },
  {
   "cell_type": "code",
   "execution_count": 20,
   "metadata": {},
   "outputs": [
    {
     "data": {
      "text/plain": [
       "123"
      ]
     },
     "execution_count": 20,
     "metadata": {},
     "output_type": "execute_result"
    }
   ],
   "source": [
    "+123 # A positive interger"
   ]
  },
  {
   "cell_type": "code",
   "execution_count": null,
   "metadata": {},
   "outputs": [],
   "source": []
  },
  {
   "cell_type": "markdown",
   "metadata": {},
   "source": [
    "#### String\n",
    "\n",
    "A string is enclosed in a pair of single or double quotes."
   ]
  },
  {
   "cell_type": "code",
   "execution_count": 21,
   "metadata": {},
   "outputs": [
    {
     "data": {
      "text/plain": [
       "str"
      ]
     },
     "execution_count": 21,
     "metadata": {},
     "output_type": "execute_result"
    }
   ],
   "source": [
    "dna=\"ATCGTAGTACGGTA\"\n",
    "type(dna)"
   ]
  },
  {
   "cell_type": "markdown",
   "metadata": {},
   "source": [
    "When you have long strings, you can enclose with triple double quotes. This allows for spaces and new lines. "
   ]
  },
  {
   "cell_type": "code",
   "execution_count": 22,
   "metadata": {},
   "outputs": [
    {
     "name": "stdout",
     "output_type": "stream",
     "text": [
      "MKQLNFYKKN SLNNVQEVFS YFMETMISTN RTWEYFINWD KVFNGADKYR NELMKLNSLC GS\n",
      "LFPGEELK SLLKKTPDVV KAFPLLLAVR DESISLLD\n"
     ]
    },
    {
     "data": {
      "text/plain": [
       "str"
      ]
     },
     "execution_count": 22,
     "metadata": {},
     "output_type": "execute_result"
    }
   ],
   "source": [
    "aa = \"\"\"MKQLNFYKKN SLNNVQEVFS YFMETMISTN RTWEYFINWD KVFNGADKYR NELMKLNSLC GS\n",
    "LFPGEELK SLLKKTPDVV KAFPLLLAVR DESISLLD\"\"\"\n",
    "\n",
    "print(aa)\n",
    "\n",
    "type(aa)"
   ]
  },
  {
   "cell_type": "markdown",
   "metadata": {},
   "source": [
    "#### Float\n",
    "\n",
    "Used to represent floating point numbers, which always have a decimal point and a number afterward. "
   ]
  },
  {
   "cell_type": "code",
   "execution_count": 23,
   "metadata": {},
   "outputs": [
    {
     "data": {
      "text/plain": [
       "2.0"
      ]
     },
     "execution_count": 23,
     "metadata": {},
     "output_type": "execute_result"
    }
   ],
   "source": [
    "2.0           # a simple floating point number"
   ]
  },
  {
   "cell_type": "markdown",
   "metadata": {},
   "source": [
    "#### Booleans\n",
    "\n",
    "There are only two Boolean values: True and False."
   ]
  },
  {
   "cell_type": "code",
   "execution_count": 24,
   "metadata": {},
   "outputs": [
    {
     "data": {
      "text/plain": [
       "True"
      ]
     },
     "execution_count": 24,
     "metadata": {},
     "output_type": "execute_result"
    }
   ],
   "source": [
    "True or False # the two possible boolean values"
   ]
  },
  {
   "cell_type": "code",
   "execution_count": 25,
   "metadata": {},
   "outputs": [
    {
     "data": {
      "text/plain": [
       "True"
      ]
     },
     "execution_count": 25,
     "metadata": {},
     "output_type": "execute_result"
    }
   ],
   "source": [
    "'AT' in dna"
   ]
  },
  {
   "cell_type": "markdown",
   "metadata": {},
   "source": [
    "# Operators"
   ]
  },
  {
   "cell_type": "markdown",
   "metadata": {},
   "source": [
    "## Arithmetic Operators"
   ]
  },
  {
   "cell_type": "markdown",
   "metadata": {},
   "source": [
    "| Symbol | Task Performed |\n",
    "|----|---|\n",
    "| +  | Addition |\n",
    "| -  | Subtraction |\n",
    "| /  | division |\n",
    "| %  | mod |\n",
    "| *  | multiplication |\n",
    "| //  | floor division |\n",
    "| **  | to the power of |\n",
    "\n",
    "When one of the numbers in the operation is a float, the result is also a float. "
   ]
  },
  {
   "cell_type": "code",
   "execution_count": 26,
   "metadata": {},
   "outputs": [
    {
     "data": {
      "text/plain": [
       "3.0"
      ]
     },
     "execution_count": 26,
     "metadata": {},
     "output_type": "execute_result"
    }
   ],
   "source": [
    "2.0 + 1"
   ]
  },
  {
   "cell_type": "code",
   "execution_count": 27,
   "metadata": {},
   "outputs": [
    {
     "data": {
      "text/plain": [
       "3"
      ]
     },
     "execution_count": 27,
     "metadata": {},
     "output_type": "execute_result"
    }
   ],
   "source": [
    "1+2"
   ]
  },
  {
   "cell_type": "code",
   "execution_count": 28,
   "metadata": {},
   "outputs": [
    {
     "data": {
      "text/plain": [
       "1"
      ]
     },
     "execution_count": 28,
     "metadata": {},
     "output_type": "execute_result"
    }
   ],
   "source": [
    "2-1"
   ]
  },
  {
   "cell_type": "code",
   "execution_count": 29,
   "metadata": {},
   "outputs": [
    {
     "data": {
      "text/plain": [
       "2"
      ]
     },
     "execution_count": 29,
     "metadata": {},
     "output_type": "execute_result"
    }
   ],
   "source": [
    "1*2"
   ]
  },
  {
   "cell_type": "code",
   "execution_count": 30,
   "metadata": {},
   "outputs": [
    {
     "data": {
      "text/plain": [
       "0.75"
      ]
     },
     "execution_count": 30,
     "metadata": {},
     "output_type": "execute_result"
    }
   ],
   "source": [
    "3/4"
   ]
  },
  {
   "cell_type": "markdown",
   "metadata": {},
   "source": [
    "In many languages (and older versions of python) 1/2 = 0 (truncated division). In Python 3 this behaviour is captured by a separate operator that rounds down: (ie a // b$=\\lfloor \\frac{a}{b}\\rfloor$)"
   ]
  },
  {
   "cell_type": "code",
   "execution_count": 31,
   "metadata": {},
   "outputs": [
    {
     "data": {
      "text/plain": [
       "0.0"
      ]
     },
     "execution_count": 31,
     "metadata": {},
     "output_type": "execute_result"
    }
   ],
   "source": [
    "3//4.0"
   ]
  },
  {
   "cell_type": "markdown",
   "metadata": {},
   "source": [
    "The mudulo `%` returns the remainder after division."
   ]
  },
  {
   "cell_type": "code",
   "execution_count": 32,
   "metadata": {},
   "outputs": [
    {
     "data": {
      "text/plain": [
       "5"
      ]
     },
     "execution_count": 32,
     "metadata": {},
     "output_type": "execute_result"
    }
   ],
   "source": [
    "15%10"
   ]
  },
  {
   "cell_type": "markdown",
   "metadata": {},
   "source": [
    "Python natively allows (nearly) infinite length integers while floating point numbers are double precision numbers:"
   ]
  },
  {
   "cell_type": "code",
   "execution_count": 33,
   "metadata": {},
   "outputs": [
    {
     "data": {
      "text/plain": [
       "2617010996188399907017032528972038342491649416953000260240805955827972056685382434497090341496787032585738884786745286700473999847280664191731008874811751310888591786111994678208920175143911761181424495660877950654145066969036252669735483098936884016471326487403792787648506879212630637101259246005701084327338001"
      ]
     },
     "execution_count": 33,
     "metadata": {},
     "output_type": "execute_result"
    }
   ],
   "source": [
    "11**300"
   ]
  },
  {
   "cell_type": "code",
   "execution_count": 34,
   "metadata": {},
   "outputs": [
    {
     "ename": "OverflowError",
     "evalue": "(34, 'Result too large')",
     "output_type": "error",
     "traceback": [
      "\u001b[31m---------------------------------------------------------------------------\u001b[39m",
      "\u001b[31mOverflowError\u001b[39m                             Traceback (most recent call last)",
      "\u001b[36mCell\u001b[39m\u001b[36m \u001b[39m\u001b[32mIn[34]\u001b[39m\u001b[32m, line 1\u001b[39m\n\u001b[32m----> \u001b[39m\u001b[32m1\u001b[39m \u001b[32m11.0\u001b[39m**\u001b[32m300\u001b[39m\n",
      "\u001b[31mOverflowError\u001b[39m: (34, 'Result too large')"
     ]
    }
   ],
   "source": [
    "11.0**300"
   ]
  },
  {
   "cell_type": "markdown",
   "metadata": {},
   "source": [
    "## Relational Operators"
   ]
  },
  {
   "cell_type": "markdown",
   "metadata": {},
   "source": [
    "| Symbol | Task Performed |\n",
    "|----|---|\n",
    "| == | True, if it is equal |\n",
    "| !=  | True, if not equal to |\n",
    "| < | less than |\n",
    "| > | greater than |\n",
    "| <=  | less than or equal to |\n",
    "| >=  | greater than or equal to |\n",
    "\n",
    "Note the difference between `==` (equality test) and `=` (assignment)"
   ]
  },
  {
   "cell_type": "code",
   "execution_count": 35,
   "metadata": {},
   "outputs": [
    {
     "data": {
      "text/plain": [
       "True"
      ]
     },
     "execution_count": 35,
     "metadata": {},
     "output_type": "execute_result"
    }
   ],
   "source": [
    "z = 2\n",
    "z == 2"
   ]
  },
  {
   "cell_type": "code",
   "execution_count": 36,
   "metadata": {},
   "outputs": [
    {
     "data": {
      "text/plain": [
       "False"
      ]
     },
     "execution_count": 36,
     "metadata": {},
     "output_type": "execute_result"
    }
   ],
   "source": [
    "z > 2"
   ]
  },
  {
   "cell_type": "markdown",
   "metadata": {},
   "source": [
    "Comparisons can also be chained in the mathematically obvious way. The following will work as expected in Python (but not in other languages like C/C++):"
   ]
  },
  {
   "cell_type": "code",
   "execution_count": 37,
   "metadata": {},
   "outputs": [
    {
     "data": {
      "text/plain": [
       "False"
      ]
     },
     "execution_count": 37,
     "metadata": {},
     "output_type": "execute_result"
    }
   ],
   "source": [
    "0.5 < z <= 1"
   ]
  },
  {
   "cell_type": "markdown",
   "metadata": {},
   "source": [
    "### String Operations\n",
    "\n",
    "Four binary operators act on strings:**in** , **not in** , **+** , and **\\***\n",
    "\n",
    "Let's use the mitochondrial tRNA (NCBI Reference Sequence: NC_012920.1) to practice with string operations: NCBI Reference Sequence: NC_012920.1"
   ]
  },
  {
   "cell_type": "code",
   "execution_count": 38,
   "metadata": {},
   "outputs": [],
   "source": [
    "trna='AAGGGCTTAGCTTAATTAAAGTGGCTGATTTGCGTTCAGTTGATGCAGAGTGGGGTTTTGCAGTCCTTA'"
   ]
  },
  {
   "cell_type": "code",
   "execution_count": 39,
   "metadata": {},
   "outputs": [
    {
     "data": {
      "text/plain": [
       "True"
      ]
     },
     "execution_count": 39,
     "metadata": {},
     "output_type": "execute_result"
    }
   ],
   "source": [
    "# we can check if a given motif is in sequence\n",
    "\n",
    "'ATTAA' in trna"
   ]
  },
  {
   "cell_type": "code",
   "execution_count": 40,
   "metadata": {},
   "outputs": [
    {
     "data": {
      "text/plain": [
       "True"
      ]
     },
     "execution_count": 40,
     "metadata": {},
     "output_type": "execute_result"
    }
   ],
   "source": [
    "# We can also check if a given motif is absent\n",
    "\n",
    "'GGCTGTT' not in trna"
   ]
  },
  {
   "cell_type": "code",
   "execution_count": 41,
   "metadata": {},
   "outputs": [
    {
     "data": {
      "text/plain": [
       "'ATTAAGGCTGTT'"
      ]
     },
     "execution_count": 41,
     "metadata": {},
     "output_type": "execute_result"
    }
   ],
   "source": [
    "#we can concatentate two strings\n",
    "\n",
    "'ATTAA' + 'GGCTGTT'"
   ]
  },
  {
   "cell_type": "code",
   "execution_count": 42,
   "metadata": {},
   "outputs": [
    {
     "data": {
      "text/plain": [
       "'GGCTGTTGGCTGTTGGCTGTTGGCTGTT'"
      ]
     },
     "execution_count": 42,
     "metadata": {},
     "output_type": "execute_result"
    }
   ],
   "source": [
    "# Create a long string from a substring by multiplying with an integer\n",
    "'GGCTGTT' * 4"
   ]
  }
 ],
 "metadata": {
  "kernelspec": {
   "display_name": "summerschool",
   "language": "python",
   "name": "python3"
  },
  "language_info": {
   "codemirror_mode": {
    "name": "ipython",
    "version": 3
   },
   "file_extension": ".py",
   "mimetype": "text/x-python",
   "name": "python",
   "nbconvert_exporter": "python",
   "pygments_lexer": "ipython3",
   "version": "3.11.13"
  }
 },
 "nbformat": 4,
 "nbformat_minor": 2
}
